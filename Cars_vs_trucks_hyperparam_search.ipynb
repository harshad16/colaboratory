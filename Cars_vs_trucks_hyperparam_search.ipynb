{
  "nbformat": 4,
  "nbformat_minor": 0,
  "metadata": {
    "colab": {
      "name": "Cars_vs_trucks_hyperparam_search",
      "version": "0.3.2",
      "provenance": [],
      "include_colab_link": true
    },
    "kernelspec": {
      "name": "python3",
      "display_name": "Python 3"
    },
    "accelerator": "GPU"
  },
  "cells": [
    {
      "cell_type": "markdown",
      "metadata": {
        "id": "view-in-github",
        "colab_type": "text"
      },
      "source": [
        "<a href=\"https://colab.research.google.com/github/martinpovolny/colaboratory/blob/master/Cars_vs_trucks_hyperparam_search.ipynb\" target=\"_parent\"><img src=\"https://colab.research.google.com/assets/colab-badge.svg\" alt=\"Open In Colab\"/></a>"
      ]
    },
    {
      "cell_type": "markdown",
      "metadata": {
        "id": "NSuwFiVwDZpl",
        "colab_type": "text"
      },
      "source": [
        "First we download and unzip the data. The data comes in sorted into subdirectories by categories.\n",
        "\n",
        "For sorting I first used: https://github.com/martinpovolny/clsf and manually fixed bugz."
      ]
    },
    {
      "cell_type": "code",
      "metadata": {
        "id": "Oi-uLaj__K-3",
        "colab_type": "code",
        "outputId": "27aa85cd-b0af-4ff7-8592-cdc6425df207",
        "colab": {
          "base_uri": "https://localhost:8080/",
          "height": 204
        }
      },
      "source": [
        "!wget http://ujc.hmpf.cz/download/cars-sorted-2019-06-01.zip  -O /tmp/cars-sorted.zip"
      ],
      "execution_count": 0,
      "outputs": [
        {
          "output_type": "stream",
          "text": [
            "--2019-06-01 12:39:42--  http://ujc.hmpf.cz/download/cars-sorted-2019-06-01.zip\n",
            "Resolving ujc.hmpf.cz (ujc.hmpf.cz)... 147.231.205.34\n",
            "Connecting to ujc.hmpf.cz (ujc.hmpf.cz)|147.231.205.34|:80... connected.\n",
            "HTTP request sent, awaiting response... 200 OK\n",
            "Length: 66101608 (63M) [application/zip]\n",
            "Saving to: ‘/tmp/cars-sorted.zip’\n",
            "\n",
            "/tmp/cars-sorted.zi 100%[===================>]  63.04M  11.2MB/s    in 6.6s    \n",
            "\n",
            "2019-06-01 12:39:49 (9.59 MB/s) - ‘/tmp/cars-sorted.zip’ saved [66101608/66101608]\n",
            "\n"
          ],
          "name": "stdout"
        }
      ]
    },
    {
      "cell_type": "code",
      "metadata": {
        "id": "URb3kxoE_xaV",
        "colab_type": "code",
        "colab": {}
      },
      "source": [
        "import os\n",
        "import zipfile\n",
        "\n",
        "local_zip = '/tmp/cars-sorted.zip'\n",
        "zip_ref = zipfile.ZipFile(local_zip, 'r')\n",
        "zip_ref.extractall('/tmp/cars-sorted')\n",
        "zip_ref.close()"
      ],
      "execution_count": 0,
      "outputs": []
    },
    {
      "cell_type": "code",
      "metadata": {
        "id": "gNaPU-DU_2lv",
        "colab_type": "code",
        "colab": {}
      },
      "source": [
        "train_dir = os.path.join('/tmp/cars-sorted/sorted')\n"
      ],
      "execution_count": 0,
      "outputs": []
    },
    {
      "cell_type": "markdown",
      "metadata": {
        "id": "lrjeRiTrD0Rt",
        "colab_type": "text"
      },
      "source": [
        "I am downscaling the images to 90x160. Seems to be enough to tell car from a truck and front from rear."
      ]
    },
    {
      "cell_type": "code",
      "metadata": {
        "id": "sG8ia8TSBHHP",
        "colab_type": "code",
        "colab": {}
      },
      "source": [
        "image_size=(90, 160)"
      ],
      "execution_count": 0,
      "outputs": []
    },
    {
      "cell_type": "markdown",
      "metadata": {
        "id": "-Mefd2KICwWN",
        "colab_type": "text"
      },
      "source": [
        "Common approach (tutorials, courses) is having the train and validation data in separate directories. I have the data from the same source and would have to split it manually or write some code to split it to use that approach.\n",
        "\n",
        "So for having train and validation data in the same directory I am using this: https://stackoverflow.com/questions/42443936/keras-split-train-test-set-when-using-imagedatagenerator"
      ]
    },
    {
      "cell_type": "code",
      "metadata": {
        "id": "VMlOLXmLABkw",
        "colab_type": "code",
        "outputId": "0dc10e0d-35a7-4767-c4b8-51d1d1ec3296",
        "colab": {
          "base_uri": "https://localhost:8080/",
          "height": 51
        }
      },
      "source": [
        "from tensorflow.keras.preprocessing.image import ImageDataGenerator\n",
        "\n",
        "# All images will be rescaled by 1./255\n",
        "# FIXME: loss_weights?\n",
        "batch_size = 128\n",
        "\n",
        "train_datagen = ImageDataGenerator(rescale=1./255,\n",
        "    #shear_range=0.2,\n",
        "    #zoom_range=0.2,\n",
        "    #horizontal_flip=True,\n",
        "    validation_split=0.2) # set validation split\n",
        "\n",
        "train_generator = train_datagen.flow_from_directory(\n",
        "    train_dir,\n",
        "    target_size=image_size,\n",
        "    batch_size=batch_size,\n",
        "    class_mode='categorical',\n",
        "    subset='training') # set as training data\n",
        "\n",
        "validation_generator = train_datagen.flow_from_directory(\n",
        "    train_dir,\n",
        "    target_size=image_size,\n",
        "    batch_size=batch_size,\n",
        "    class_mode='categorical',\n",
        "    subset='validation') # set as validation data\n",
        "\n"
      ],
      "execution_count": 21,
      "outputs": [
        {
          "output_type": "stream",
          "text": [
            "Found 3578 images belonging to 5 classes.\n",
            "Found 893 images belonging to 5 classes.\n"
          ],
          "name": "stdout"
        }
      ]
    },
    {
      "cell_type": "code",
      "metadata": {
        "id": "2iB2R7J3Y6QF",
        "colab_type": "code",
        "colab": {}
      },
      "source": [
        "from tensorboard.plugins.hparams import api as hp\n",
        "import tensorflow as tf\n"
      ],
      "execution_count": 0,
      "outputs": []
    },
    {
      "cell_type": "code",
      "metadata": {
        "id": "JylC8G43Zswn",
        "colab_type": "code",
        "colab": {}
      },
      "source": [
        "HP_DENSE_UNITS = hp.HParam('dense_units', hp.Discrete([64, 128, 256]))\n",
        "HP_DROPOUT = hp.HParam('dropout', hp.RealInterval(0.1, 0.5))\n",
        "# HP_OPTIMIZER = hp.HParam('optimizer', hp.Discrete(['adam', 'sgd']))\n",
        "\n",
        "METRIC_ACCURACY = 'accuracy'\n",
        "\n",
        "with tf.summary.create_file_writer('logs/hparam_tuning').as_default():\n",
        "  hp.hparams_config(\n",
        "    hparams=[HP_DENSE_UNITS, HP_DROPOUT], # , HP_OPTIMIZER],\n",
        "    metrics=[hp.Metric(METRIC_ACCURACY, display_name='Accuracy')],\n",
        "  )\n",
        "  \n",
        "log_dir = \"logs/hparam_tuning\""
      ],
      "execution_count": 0,
      "outputs": []
    },
    {
      "cell_type": "code",
      "metadata": {
        "id": "DpHs1O94l90B",
        "colab_type": "code",
        "colab": {}
      },
      "source": [
        "import numpy as np\n",
        "\n",
        "from tensorflow.keras.models import Sequential;\n",
        "from tensorflow.keras.layers import Conv2D, MaxPooling2D, Flatten, Dense, Dropout, Activation;"
      ],
      "execution_count": 0,
      "outputs": []
    },
    {
      "cell_type": "code",
      "metadata": {
        "id": "mKwWcXnMBCW_",
        "colab_type": "code",
        "colab": {}
      },
      "source": [
        "def model_4(image_size, num_classes, hparams):\n",
        "    model = Sequential()\n",
        "\n",
        "    model.add(Conv2D(32, (3, 3), input_shape=(image_size[0], image_size[1], 3)))\n",
        "    model.add(Activation('relu'))\n",
        "    model.add(MaxPooling2D(pool_size=(2, 2)))\n",
        "\n",
        "    model.add(Conv2D(32, (3, 3)))\n",
        "    model.add(Activation('relu'))\n",
        "    model.add(MaxPooling2D(pool_size=(2, 2)))\n",
        "\n",
        "    model.add(Conv2D(64, (3, 3)))\n",
        "    model.add(Activation('relu'))\n",
        "    model.add(MaxPooling2D(pool_size=(2, 2)))\n",
        "\n",
        "    model.add(Flatten())\n",
        "    model.add(Dense(hparams[HP_DENSE_UNITS]))\n",
        "    model.add(Activation('relu'))\n",
        "    model.add(Dropout(rate = hparams[HP_DROPOUT]))\n",
        "    model.add(Dense(num_classes))\n",
        "    model.add(Activation(\"softmax\"))\n",
        "\n",
        "    return model\n"
      ],
      "execution_count": 0,
      "outputs": []
    },
    {
      "cell_type": "code",
      "metadata": {
        "id": "Uo9X7vKhpeQZ",
        "colab_type": "code",
        "colab": {}
      },
      "source": [
        "from tensorflow.keras.optimizers import Adam, RMSprop\n",
        "\n",
        "#model.compile(loss='binary_crossentropy',\n",
        "#              optimizer=RMSprop(lr=0.001),\n",
        "#              metrics=['acc'])\n",
        "\n",
        "def compile_model(model, hparams):\n",
        "    opt = Adam(lr=0.001, beta_1=0.9, beta_2=0.999, epsilon=None, decay=0.0, amsgrad=False)\n",
        "    model.compile(opt,\n",
        "        loss='categorical_crossentropy',\n",
        "        metrics=['accuracy'],\n",
        "        loss_weights=None,\n",
        "        sample_weight_mode=None,\n",
        "        weighted_metrics=None,\n",
        "        target_tensors=None)\n",
        "    \n",
        "    return model\n",
        "\n"
      ],
      "execution_count": 0,
      "outputs": []
    },
    {
      "cell_type": "code",
      "metadata": {
        "id": "gPqzOKkXBCbU",
        "colab_type": "code",
        "colab": {}
      },
      "source": [
        "\n",
        "def fit_model(model, hparams):\n",
        "    history = model.fit_generator(\n",
        "          train_generator,\n",
        "          steps_per_epoch=8,  \n",
        "          epochs=15,\n",
        "          validation_data = validation_generator, \n",
        "          validation_steps = validation_generator.samples // batch_size,\n",
        "          verbose=1,\n",
        "          callbacks=[\n",
        "              # tf.keras.callbacks.TensorBoard(logdir),  # log metrics\n",
        "              hp.KerasCallback(log_dir, hparams),  # log hparams\n",
        "          ]\n",
        "    )\n",
        "    \n",
        "    return history"
      ],
      "execution_count": 0,
      "outputs": []
    },
    {
      "cell_type": "code",
      "metadata": {
        "id": "eO2uV8VHbJwO",
        "colab_type": "code",
        "colab": {}
      },
      "source": [
        "def train_test_model(hparams):\n",
        "    model = model_4(image_size, 5, hparams)\n",
        "    model = compile_model(model, hparams)\n",
        "    history = fit_model(model, hparams)\n",
        "    # _, accuracy = model.evaluate(x_test, y_test) # FIXME x_test, y_test\n",
        "    \n",
        "    accuracy = history.history['val_accuracy'][-1]\n",
        "    return accuracy"
      ],
      "execution_count": 0,
      "outputs": []
    },
    {
      "cell_type": "markdown",
      "metadata": {
        "id": "rf_9bBBTjVhS",
        "colab_type": "text"
      },
      "source": [
        "Simple Hyperparameter search using Grid search according to https://www.tensorflow.org/tensorboard/r2/hyperparameter_tuning_with_hparams"
      ]
    },
    {
      "cell_type": "code",
      "metadata": {
        "id": "CoRZyOPucEto",
        "colab_type": "code",
        "colab": {
          "base_uri": "https://localhost:8080/",
          "height": 3281
        },
        "outputId": "30baf0f4-4100-449f-cef7-d07351feba6a"
      },
      "source": [
        "session_num = 0\n",
        "\n",
        "for dense_units in HP_DENSE_UNITS.domain.values:\n",
        "  for dropout_rate in (HP_DROPOUT.domain.min_value, HP_DROPOUT.domain.max_value): # FIXME: testing just min and max\n",
        "    #for optimizer in HP_OPTIMIZER.domain.values:\n",
        "      hparams = {\n",
        "          HP_DENSE_UNITS: dense_units,\n",
        "          HP_DROPOUT: dropout_rate,\n",
        "          #HP_OPTIMIZER: optimizer,\n",
        "      }\n",
        "      run_name = \"run-%d\" % session_num\n",
        "      print('--- Starting trial: %s' % run_name)\n",
        "      print({h.name: hparams[h] for h in hparams})\n",
        "      \n",
        "      train_test_model(hparams)\n",
        "      session_num += 1"
      ],
      "execution_count": 42,
      "outputs": [
        {
          "output_type": "stream",
          "text": [
            "--- Starting trial: run-0\n",
            "{'dense_units': 64, 'dropout': 0.1}\n",
            "Epoch 1/15\n",
            "8/8 [==============================] - 21s 3s/step - loss: 1.3445 - accuracy: 0.4600 - val_loss: 1.2651 - val_accuracy: 0.4740\n",
            "Epoch 2/15\n",
            "8/8 [==============================] - 20s 2s/step - loss: 1.2363 - accuracy: 0.5413 - val_loss: 1.1731 - val_accuracy: 0.5156\n",
            "Epoch 3/15\n",
            "8/8 [==============================] - 19s 2s/step - loss: 1.0411 - accuracy: 0.6035 - val_loss: 1.0251 - val_accuracy: 0.6484\n",
            "Epoch 4/15\n",
            "8/8 [==============================] - 21s 3s/step - loss: 0.8550 - accuracy: 0.6680 - val_loss: 1.1143 - val_accuracy: 0.5938\n",
            "Epoch 5/15\n",
            "8/8 [==============================] - 19s 2s/step - loss: 0.8225 - accuracy: 0.7051 - val_loss: 0.8341 - val_accuracy: 0.7370\n",
            "Epoch 6/15\n",
            "8/8 [==============================] - 19s 2s/step - loss: 0.6783 - accuracy: 0.7422 - val_loss: 0.8474 - val_accuracy: 0.7279\n",
            "Epoch 7/15\n",
            "8/8 [==============================] - 20s 2s/step - loss: 0.6537 - accuracy: 0.7515 - val_loss: 0.8013 - val_accuracy: 0.7031\n",
            "Epoch 8/15\n",
            "8/8 [==============================] - 19s 2s/step - loss: 0.5854 - accuracy: 0.7829 - val_loss: 0.8257 - val_accuracy: 0.7005\n",
            "Epoch 9/15\n",
            "8/8 [==============================] - 19s 2s/step - loss: 0.5090 - accuracy: 0.8135 - val_loss: 0.7259 - val_accuracy: 0.7617\n",
            "Epoch 10/15\n",
            "8/8 [==============================] - 18s 2s/step - loss: 0.4244 - accuracy: 0.8564 - val_loss: 0.7017 - val_accuracy: 0.7305\n",
            "Epoch 11/15\n",
            "8/8 [==============================] - 20s 3s/step - loss: 0.4187 - accuracy: 0.8438 - val_loss: 1.0106 - val_accuracy: 0.5938\n",
            "Epoch 12/15\n",
            "8/8 [==============================] - 19s 2s/step - loss: 0.4194 - accuracy: 0.8584 - val_loss: 0.7996 - val_accuracy: 0.6849\n",
            "Epoch 13/15\n",
            "8/8 [==============================] - 19s 2s/step - loss: 0.3954 - accuracy: 0.8615 - val_loss: 0.5673 - val_accuracy: 0.8177\n",
            "Epoch 14/15\n",
            "8/8 [==============================] - 19s 2s/step - loss: 0.3668 - accuracy: 0.8760 - val_loss: 0.6289 - val_accuracy: 0.8021\n",
            "Epoch 15/15\n",
            "8/8 [==============================] - 19s 2s/step - loss: 0.3529 - accuracy: 0.8779 - val_loss: 0.5905 - val_accuracy: 0.7826\n",
            "--- Starting trial: run-1\n",
            "{'dense_units': 64, 'dropout': 0.5}\n",
            "Epoch 1/15\n",
            "8/8 [==============================] - 21s 3s/step - loss: 1.4518 - accuracy: 0.3945 - val_loss: 1.3239 - val_accuracy: 0.4740\n",
            "Epoch 2/15\n",
            "8/8 [==============================] - 19s 2s/step - loss: 1.3229 - accuracy: 0.4804 - val_loss: 1.2381 - val_accuracy: 0.5221\n",
            "Epoch 3/15\n",
            "8/8 [==============================] - 18s 2s/step - loss: 1.1677 - accuracy: 0.5527 - val_loss: 1.0425 - val_accuracy: 0.5742\n",
            "Epoch 4/15\n",
            "8/8 [==============================] - 19s 2s/step - loss: 1.0745 - accuracy: 0.5850 - val_loss: 1.0220 - val_accuracy: 0.6107\n",
            "Epoch 5/15\n",
            "8/8 [==============================] - 19s 2s/step - loss: 0.9639 - accuracy: 0.6152 - val_loss: 1.0400 - val_accuracy: 0.5911\n",
            "Epoch 6/15\n",
            "8/8 [==============================] - 18s 2s/step - loss: 0.9509 - accuracy: 0.6338 - val_loss: 1.0447 - val_accuracy: 0.5924\n",
            "Epoch 7/15\n",
            "8/8 [==============================] - 19s 2s/step - loss: 0.9196 - accuracy: 0.6454 - val_loss: 0.9794 - val_accuracy: 0.6328\n",
            "Epoch 8/15\n",
            "8/8 [==============================] - 18s 2s/step - loss: 0.8723 - accuracy: 0.6436 - val_loss: 0.9900 - val_accuracy: 0.6719\n",
            "Epoch 9/15\n",
            "8/8 [==============================] - 19s 2s/step - loss: 0.8105 - accuracy: 0.6787 - val_loss: 0.9377 - val_accuracy: 0.6380\n",
            "Epoch 10/15\n",
            "8/8 [==============================] - 17s 2s/step - loss: 0.7369 - accuracy: 0.7210 - val_loss: 0.8562 - val_accuracy: 0.6497\n",
            "Epoch 11/15\n",
            "8/8 [==============================] - 19s 2s/step - loss: 0.6411 - accuracy: 0.7529 - val_loss: 0.7727 - val_accuracy: 0.7357\n",
            "Epoch 12/15\n",
            "8/8 [==============================] - 18s 2s/step - loss: 0.6334 - accuracy: 0.7554 - val_loss: 0.7714 - val_accuracy: 0.6654\n",
            "Epoch 13/15\n",
            "8/8 [==============================] - 18s 2s/step - loss: 0.6655 - accuracy: 0.7480 - val_loss: 0.7608 - val_accuracy: 0.7057\n",
            "Epoch 14/15\n",
            "8/8 [==============================] - 19s 2s/step - loss: 0.6232 - accuracy: 0.7588 - val_loss: 0.7010 - val_accuracy: 0.7552\n",
            "Epoch 15/15\n",
            "8/8 [==============================] - 19s 2s/step - loss: 0.5655 - accuracy: 0.7686 - val_loss: 0.6929 - val_accuracy: 0.7318\n",
            "--- Starting trial: run-2\n",
            "{'dense_units': 128, 'dropout': 0.1}\n",
            "Epoch 1/15\n",
            "8/8 [==============================] - 20s 3s/step - loss: 1.3637 - accuracy: 0.4443 - val_loss: 1.2873 - val_accuracy: 0.4740\n",
            "Epoch 2/15\n",
            "8/8 [==============================] - 18s 2s/step - loss: 1.2113 - accuracy: 0.5371 - val_loss: 1.1408 - val_accuracy: 0.5859\n",
            "Epoch 3/15\n",
            "8/8 [==============================] - 18s 2s/step - loss: 1.0513 - accuracy: 0.6031 - val_loss: 1.0232 - val_accuracy: 0.5977\n",
            "Epoch 4/15\n",
            "8/8 [==============================] - 19s 2s/step - loss: 0.9011 - accuracy: 0.6504 - val_loss: 1.0459 - val_accuracy: 0.5312\n",
            "Epoch 5/15\n",
            "8/8 [==============================] - 18s 2s/step - loss: 0.7373 - accuracy: 0.7139 - val_loss: 0.8303 - val_accuracy: 0.7279\n",
            "Epoch 6/15\n",
            "8/8 [==============================] - 18s 2s/step - loss: 0.6783 - accuracy: 0.7734 - val_loss: 0.8347 - val_accuracy: 0.6771\n",
            "Epoch 7/15\n",
            "8/8 [==============================] - 19s 2s/step - loss: 0.6121 - accuracy: 0.7859 - val_loss: 0.6958 - val_accuracy: 0.7448\n",
            "Epoch 8/15\n",
            "8/8 [==============================] - 18s 2s/step - loss: 0.5300 - accuracy: 0.8027 - val_loss: 0.7036 - val_accuracy: 0.7292\n",
            "Epoch 9/15\n",
            "8/8 [==============================] - 18s 2s/step - loss: 0.4594 - accuracy: 0.8438 - val_loss: 0.8668 - val_accuracy: 0.6940\n",
            "Epoch 10/15\n",
            "8/8 [==============================] - 17s 2s/step - loss: 0.4500 - accuracy: 0.8350 - val_loss: 0.7472 - val_accuracy: 0.7370\n",
            "Epoch 11/15\n",
            "8/8 [==============================] - 19s 2s/step - loss: 0.3959 - accuracy: 0.8682 - val_loss: 0.5527 - val_accuracy: 0.8138\n",
            "Epoch 12/15\n",
            "8/8 [==============================] - 19s 2s/step - loss: 0.3696 - accuracy: 0.8652 - val_loss: 0.5616 - val_accuracy: 0.7982\n",
            "Epoch 13/15\n",
            "8/8 [==============================] - 18s 2s/step - loss: 0.3329 - accuracy: 0.8861 - val_loss: 0.6878 - val_accuracy: 0.7370\n",
            "Epoch 14/15\n",
            "8/8 [==============================] - 19s 2s/step - loss: 0.3638 - accuracy: 0.8662 - val_loss: 0.6336 - val_accuracy: 0.7461\n",
            "Epoch 15/15\n",
            "8/8 [==============================] - 18s 2s/step - loss: 0.3224 - accuracy: 0.8955 - val_loss: 0.4980 - val_accuracy: 0.8333\n",
            "--- Starting trial: run-3\n",
            "{'dense_units': 128, 'dropout': 0.5}\n",
            "Epoch 1/15\n",
            "8/8 [==============================] - 21s 3s/step - loss: 1.3572 - accuracy: 0.4443 - val_loss: 1.2106 - val_accuracy: 0.4740\n",
            "Epoch 2/15\n",
            "8/8 [==============================] - 18s 2s/step - loss: 1.1436 - accuracy: 0.5511 - val_loss: 1.0532 - val_accuracy: 0.6237\n",
            "Epoch 3/15\n",
            "8/8 [==============================] - 17s 2s/step - loss: 1.0505 - accuracy: 0.5664 - val_loss: 1.0045 - val_accuracy: 0.6484\n",
            "Epoch 4/15\n",
            "8/8 [==============================] - 19s 2s/step - loss: 0.9394 - accuracy: 0.6416 - val_loss: 0.8971 - val_accuracy: 0.6406\n",
            "Epoch 5/15\n",
            "8/8 [==============================] - 18s 2s/step - loss: 0.7955 - accuracy: 0.7004 - val_loss: 0.8317 - val_accuracy: 0.6927\n",
            "Epoch 6/15\n",
            "8/8 [==============================] - 18s 2s/step - loss: 0.7305 - accuracy: 0.7373 - val_loss: 0.8594 - val_accuracy: 0.6484\n",
            "Epoch 7/15\n",
            "8/8 [==============================] - 18s 2s/step - loss: 0.6566 - accuracy: 0.7705 - val_loss: 0.7380 - val_accuracy: 0.7240\n",
            "Epoch 8/15\n",
            "8/8 [==============================] - 18s 2s/step - loss: 0.5964 - accuracy: 0.7701 - val_loss: 0.7166 - val_accuracy: 0.7383\n",
            "Epoch 9/15\n",
            "8/8 [==============================] - 18s 2s/step - loss: 0.5904 - accuracy: 0.7803 - val_loss: 0.7115 - val_accuracy: 0.7279\n",
            "Epoch 10/15\n",
            "8/8 [==============================] - 18s 2s/step - loss: 0.5004 - accuracy: 0.8223 - val_loss: 0.6259 - val_accuracy: 0.7812\n",
            "Epoch 11/15\n",
            "8/8 [==============================] - 19s 2s/step - loss: 0.4812 - accuracy: 0.8115 - val_loss: 0.6886 - val_accuracy: 0.7474\n",
            "Epoch 12/15\n",
            "8/8 [==============================] - 18s 2s/step - loss: 0.4042 - accuracy: 0.8457 - val_loss: 0.6775 - val_accuracy: 0.7279\n",
            "Epoch 13/15\n",
            "8/8 [==============================] - 18s 2s/step - loss: 0.4551 - accuracy: 0.8340 - val_loss: 0.5965 - val_accuracy: 0.8060\n",
            "Epoch 14/15\n",
            "8/8 [==============================] - 19s 2s/step - loss: 0.4157 - accuracy: 0.8545 - val_loss: 0.5537 - val_accuracy: 0.8099\n",
            "Epoch 15/15\n",
            "8/8 [==============================] - 18s 2s/step - loss: 0.4129 - accuracy: 0.8564 - val_loss: 0.5422 - val_accuracy: 0.7904\n",
            "--- Starting trial: run-4\n",
            "{'dense_units': 256, 'dropout': 0.1}\n",
            "Epoch 1/15\n",
            "8/8 [==============================] - 21s 3s/step - loss: 1.3898 - accuracy: 0.4273 - val_loss: 1.3211 - val_accuracy: 0.5924\n",
            "Epoch 2/15\n",
            "8/8 [==============================] - 18s 2s/step - loss: 1.1832 - accuracy: 0.5645 - val_loss: 1.0922 - val_accuracy: 0.6289\n",
            "Epoch 3/15\n",
            "8/8 [==============================] - 18s 2s/step - loss: 0.9855 - accuracy: 0.6104 - val_loss: 1.0642 - val_accuracy: 0.6042\n",
            "Epoch 4/15\n",
            "8/8 [==============================] - 19s 2s/step - loss: 0.8206 - accuracy: 0.6601 - val_loss: 0.8800 - val_accuracy: 0.6628\n",
            "Epoch 5/15\n",
            "8/8 [==============================] - 18s 2s/step - loss: 0.7146 - accuracy: 0.7432 - val_loss: 0.8436 - val_accuracy: 0.6992\n",
            "Epoch 6/15\n",
            "8/8 [==============================] - 18s 2s/step - loss: 0.6337 - accuracy: 0.7734 - val_loss: 0.9968 - val_accuracy: 0.6341\n",
            "Epoch 7/15\n",
            "8/8 [==============================] - 19s 2s/step - loss: 0.5844 - accuracy: 0.7861 - val_loss: 0.7422 - val_accuracy: 0.6992\n",
            "Epoch 8/15\n",
            "8/8 [==============================] - 19s 2s/step - loss: 0.4835 - accuracy: 0.8184 - val_loss: 0.6435 - val_accuracy: 0.7331\n",
            "Epoch 9/15\n",
            "8/8 [==============================] - 18s 2s/step - loss: 0.3723 - accuracy: 0.8701 - val_loss: 0.6471 - val_accuracy: 0.7539\n",
            "Epoch 10/15\n",
            "8/8 [==============================] - 18s 2s/step - loss: 0.3926 - accuracy: 0.8605 - val_loss: 0.7210 - val_accuracy: 0.7109\n",
            "Epoch 11/15\n",
            "8/8 [==============================] - 19s 2s/step - loss: 0.3884 - accuracy: 0.8594 - val_loss: 0.6329 - val_accuracy: 0.7096\n",
            "Epoch 12/15\n",
            "8/8 [==============================] - 18s 2s/step - loss: 0.3231 - accuracy: 0.8740 - val_loss: 0.5849 - val_accuracy: 0.7617\n",
            "Epoch 13/15\n",
            "8/8 [==============================] - 18s 2s/step - loss: 0.3406 - accuracy: 0.8740 - val_loss: 0.5773 - val_accuracy: 0.7643\n",
            "Epoch 14/15\n",
            "8/8 [==============================] - 18s 2s/step - loss: 0.3071 - accuracy: 0.9037 - val_loss: 0.4543 - val_accuracy: 0.8333\n",
            "Epoch 15/15\n",
            "8/8 [==============================] - 18s 2s/step - loss: 0.2480 - accuracy: 0.9219 - val_loss: 0.6848 - val_accuracy: 0.7161\n",
            "--- Starting trial: run-5\n",
            "{'dense_units': 256, 'dropout': 0.5}\n",
            "Epoch 1/15\n",
            "8/8 [==============================] - 21s 3s/step - loss: 1.4819 - accuracy: 0.3984 - val_loss: 1.2723 - val_accuracy: 0.4740\n",
            "Epoch 2/15\n",
            "8/8 [==============================] - 18s 2s/step - loss: 1.2378 - accuracy: 0.5215 - val_loss: 1.1797 - val_accuracy: 0.5013\n",
            "Epoch 3/15\n",
            "8/8 [==============================] - 17s 2s/step - loss: 1.1418 - accuracy: 0.5674 - val_loss: 1.0585 - val_accuracy: 0.6576\n",
            "Epoch 4/15\n",
            "8/8 [==============================] - 19s 2s/step - loss: 0.9553 - accuracy: 0.6179 - val_loss: 0.9330 - val_accuracy: 0.6315\n",
            "Epoch 5/15\n",
            "8/8 [==============================] - 18s 2s/step - loss: 0.8676 - accuracy: 0.6562 - val_loss: 0.8937 - val_accuracy: 0.6628\n",
            "Epoch 6/15\n",
            "8/8 [==============================] - 18s 2s/step - loss: 0.7848 - accuracy: 0.7090 - val_loss: 0.8855 - val_accuracy: 0.6289\n",
            "Epoch 7/15\n",
            "8/8 [==============================] - 18s 2s/step - loss: 0.7242 - accuracy: 0.7334 - val_loss: 0.9557 - val_accuracy: 0.6536\n",
            "Epoch 8/15\n",
            "8/8 [==============================] - 18s 2s/step - loss: 0.5885 - accuracy: 0.7878 - val_loss: 0.9204 - val_accuracy: 0.6576\n",
            "Epoch 9/15\n",
            "8/8 [==============================] - 18s 2s/step - loss: 0.5901 - accuracy: 0.7910 - val_loss: 0.8900 - val_accuracy: 0.6654\n",
            "Epoch 10/15\n",
            "8/8 [==============================] - 18s 2s/step - loss: 0.5144 - accuracy: 0.8125 - val_loss: 0.8563 - val_accuracy: 0.6979\n",
            "Epoch 11/15\n",
            "8/8 [==============================] - 19s 2s/step - loss: 0.4713 - accuracy: 0.8232 - val_loss: 0.7624 - val_accuracy: 0.7109\n",
            "Epoch 12/15\n",
            "8/8 [==============================] - 19s 2s/step - loss: 0.4241 - accuracy: 0.8447 - val_loss: 0.7160 - val_accuracy: 0.7279\n",
            "Epoch 13/15\n",
            "8/8 [==============================] - 18s 2s/step - loss: 0.4093 - accuracy: 0.8525 - val_loss: 0.7526 - val_accuracy: 0.7083\n",
            "Epoch 14/15\n",
            "8/8 [==============================] - 19s 2s/step - loss: 0.3933 - accuracy: 0.8662 - val_loss: 0.8748 - val_accuracy: 0.6654\n",
            "Epoch 15/15\n",
            "8/8 [==============================] - 18s 2s/step - loss: 0.3608 - accuracy: 0.8818 - val_loss: 0.8605 - val_accuracy: 0.6641\n"
          ],
          "name": "stdout"
        }
      ]
    },
    {
      "cell_type": "markdown",
      "metadata": {
        "id": "rjm8UQTTqZbq",
        "colab_type": "text"
      },
      "source": [
        "best results: ~80% val_accuracy, 128 dense units, dropout either 0.1 or 0.5"
      ]
    },
    {
      "cell_type": "code",
      "metadata": {
        "id": "jjpGjNahcE92",
        "colab_type": "code",
        "colab": {}
      },
      "source": [
        ""
      ],
      "execution_count": 0,
      "outputs": []
    }
  ]
}