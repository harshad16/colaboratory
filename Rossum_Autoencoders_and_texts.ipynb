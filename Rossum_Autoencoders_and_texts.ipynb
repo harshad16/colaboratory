{
  "nbformat": 4,
  "nbformat_minor": 0,
  "metadata": {
    "colab": {
      "name": "Rossum Autoencoders and texts",
      "version": "0.3.2",
      "provenance": [],
      "collapsed_sections": [
        "uOP_zKFgK2kF"
      ],
      "include_colab_link": true
    },
    "kernelspec": {
      "name": "python3",
      "display_name": "Python 3"
    },
    "accelerator": "GPU"
  },
  "cells": [
    {
      "cell_type": "markdown",
      "metadata": {
        "id": "view-in-github",
        "colab_type": "text"
      },
      "source": [
        "<a href=\"https://colab.research.google.com/github/martinpovolny/colaboratory/blob/master/Rossum_Autoencoders_and_texts.ipynb\" target=\"_parent\"><img src=\"https://colab.research.google.com/assets/colab-badge.svg\" alt=\"Open In Colab\"/></a>"
      ]
    },
    {
      "cell_type": "markdown",
      "metadata": {
        "id": "uAA6qJSIDZ79",
        "colab_type": "text"
      },
      "source": [
        "Welcome to google collab! If you are not familiar with the collab notebooks, I hope you will be positively surprised :)  \n",
        "\n",
        "Please:\n",
        "- Copy this notebook into your own drive (File->Save a copy to drive)\n",
        "- Look into this original notebook anyway you wish, it does contain our saved run\n",
        "- Run it \n",
        "  - And feel free to select Runtime->Change runtime type into a GPU accelerated workstation :)"
      ]
    },
    {
      "cell_type": "markdown",
      "metadata": {
        "id": "uOP_zKFgK2kF",
        "colab_type": "text"
      },
      "source": [
        "# Autoencoders - quick theory and live examples\n",
        "\n",
        "![autoencoder image](https://www.researchgate.net/publication/318204554/figure/fig1/AS:512595149770752@1499223615487/Autoencoder-architecture.png)   \n",
        "(Image from https://www.researchgate.net/publication/318204554_Intelligent_condition_monitoring_method_for_bearing_faults_from_highly_compressed_measurements_using_sparse_over-complete_features/figures?lo=1)  \n",
        "\n",
        "  \n",
        "Autoencoder is a model, that (is trained to) map outputs to be as similar as inputs as possible.  \n",
        "Keys:\n",
        "- Unsupervised learning\n",
        "- The point is in the architecture, because it is not an identity function\n",
        " - But we can say identity-like with 'bottleneck'\n",
        "- has 2 parts:\n",
        " - encoder (maps input to inner representation)\n",
        " - decoder (maps inner representation to output)\n",
        "- both parts trained together to reduce input-output error\n",
        "- were used for pretraining a deeper models (as in image, each part trained alone)\n",
        "  - ![alt text](https://www.researchgate.net/profile/Francois_Pachet/publication/319524552/figure/fig21/AS:535791140708363@1504753970877/Stacked-autoencoders-architecture_W640.jpg)\n",
        "- now used for dimensionality reduction and other usecases (covered here as ecamples)  "
      ]
    },
    {
      "cell_type": "markdown",
      "metadata": {
        "id": "Dc6muLM_o2r4",
        "colab_type": "text"
      },
      "source": [
        "## Autoencoder live demos"
      ]
    },
    {
      "cell_type": "code",
      "metadata": {
        "id": "SjNolFi-nIML",
        "colab_type": "code",
        "outputId": "71471515-43e9-4668-d535-a4f44332c395",
        "colab": {
          "base_uri": "https://localhost:8080/",
          "height": 371
        }
      },
      "source": [
        "from IPython.display import IFrame\n",
        "IFrame('https://cs.stanford.edu/people/karpathy/convnetjs/demo/autoencoder.html', width=900, height=350)"
      ],
      "execution_count": 0,
      "outputs": [
        {
          "output_type": "execute_result",
          "data": {
            "text/html": [
              "\n",
              "        <iframe\n",
              "            width=\"900\"\n",
              "            height=\"350\"\n",
              "            src=\"https://cs.stanford.edu/people/karpathy/convnetjs/demo/autoencoder.html\"\n",
              "            frameborder=\"0\"\n",
              "            allowfullscreen\n",
              "        ></iframe>\n",
              "        "
            ],
            "text/plain": [
              "<IPython.lib.display.IFrame at 0x7fd0c1e03ba8>"
            ]
          },
          "metadata": {
            "tags": []
          },
          "execution_count": 1
        }
      ]
    },
    {
      "cell_type": "code",
      "metadata": {
        "id": "rn-3gwGknYnT",
        "colab_type": "code",
        "outputId": "9ade4b8c-5e92-4261-9278-8fc8329817ee",
        "colab": {
          "base_uri": "https://localhost:8080/",
          "height": 371
        }
      },
      "source": [
        "# Not exactly an autoencoder, only when you think that the input and output are images and the bottleneck is, that it is able to use just positions.\n",
        "IFrame('https://cs.stanford.edu/people/karpathy/convnetjs/demo/image_regression.html', width=900, height=350)"
      ],
      "execution_count": 0,
      "outputs": [
        {
          "output_type": "execute_result",
          "data": {
            "text/html": [
              "\n",
              "        <iframe\n",
              "            width=\"900\"\n",
              "            height=\"350\"\n",
              "            src=\"https://cs.stanford.edu/people/karpathy/convnetjs/demo/image_regression.html\"\n",
              "            frameborder=\"0\"\n",
              "            allowfullscreen\n",
              "        ></iframe>\n",
              "        "
            ],
            "text/plain": [
              "<IPython.lib.display.IFrame at 0x7fd0c1e03e48>"
            ]
          },
          "metadata": {
            "tags": []
          },
          "execution_count": 3
        }
      ]
    },
    {
      "cell_type": "code",
      "metadata": {
        "id": "W31326syoXro",
        "colab_type": "code",
        "outputId": "bdd5a958-9ca2-4b90-e3a5-a4170e555546",
        "colab": {
          "base_uri": "https://localhost:8080/",
          "height": 371
        }
      },
      "source": [
        "IFrame('https://magenta.tensorflow.org/assets/sketch_rnn_demo/multi_vae.html', width=900, height=350)"
      ],
      "execution_count": 0,
      "outputs": [
        {
          "output_type": "execute_result",
          "data": {
            "text/html": [
              "\n",
              "        <iframe\n",
              "            width=\"900\"\n",
              "            height=\"350\"\n",
              "            src=\"https://magenta.tensorflow.org/assets/sketch_rnn_demo/multi_vae.html\"\n",
              "            frameborder=\"0\"\n",
              "            allowfullscreen\n",
              "        ></iframe>\n",
              "        "
            ],
            "text/plain": [
              "<IPython.lib.display.IFrame at 0x7fd0c1e03c50>"
            ]
          },
          "metadata": {
            "tags": []
          },
          "execution_count": 4
        }
      ]
    },
    {
      "cell_type": "code",
      "metadata": {
        "id": "q_6uaJOloY99",
        "colab_type": "code",
        "outputId": "5e95bcdf-80ad-48bf-9365-ef0bd6744d0d",
        "colab": {
          "base_uri": "https://localhost:8080/",
          "height": 370
        }
      },
      "source": [
        "IFrame('https://transcranial.github.io/keras-js/#/mnist-vae', width=900, height=350)"
      ],
      "execution_count": 0,
      "outputs": [
        {
          "output_type": "execute_result",
          "data": {
            "text/html": [
              "\n",
              "        <iframe\n",
              "            width=\"900\"\n",
              "            height=\"350\"\n",
              "            src=\"https://transcranial.github.io/keras-js/#/mnist-vae\"\n",
              "            frameborder=\"0\"\n",
              "            allowfullscreen\n",
              "        ></iframe>\n",
              "        "
            ],
            "text/plain": [
              "<IPython.lib.display.IFrame at 0x7f13fe200cc0>"
            ]
          },
          "metadata": {
            "tags": []
          },
          "execution_count": 97
        }
      ]
    },
    {
      "cell_type": "markdown",
      "metadata": {
        "id": "HUmgvGxrxLYc",
        "colab_type": "text"
      },
      "source": [
        "# Autoencoders and text data - Experiments"
      ]
    },
    {
      "cell_type": "markdown",
      "metadata": {
        "id": "I3W4niBhfVyg",
        "colab_type": "text"
      },
      "source": [
        "### What we would like to cover:\n",
        "- Autoencoders usage on texts with word by word representation\n",
        "- **How to work with autoencoders, how to use them and analyze them. (As opposed to 'how to build an anutoencoder to reach a given goal')**\n",
        "  - we will specifically aim to use the most basic autoencoder (see image at the top)\n",
        "  - ... and do not scroll to the bottom immediately, there are spoilers :)\n",
        "    \n",
        "Note:\n",
        "- The usual flow of experimental work would be to experiment (proof of work) on training data and validate/test on testing data.\n",
        "  - Note, that here we do only experiments on training data"
      ]
    },
    {
      "cell_type": "markdown",
      "metadata": {
        "id": "YTMW1df_wpXV",
        "colab_type": "text"
      },
      "source": [
        "## Preparation of the environment + imports"
      ]
    },
    {
      "cell_type": "code",
      "metadata": {
        "id": "Nsn616Q-wn0w",
        "colab_type": "code",
        "outputId": "d6fdf346-6ac4-4eea-f5bd-c27544503664",
        "colab": {
          "base_uri": "https://localhost:8080/",
          "height": 204
        }
      },
      "source": [
        "!pip install bhtsne  # for visualizations with TSNE"
      ],
      "execution_count": 0,
      "outputs": [
        {
          "output_type": "stream",
          "text": [
            "Collecting bhtsne\n",
            "\u001b[?25l  Downloading https://files.pythonhosted.org/packages/5b/32/3e25093337ab8811e0c3ebd89ad60fd6ca19ef9d7cebb645454f2bc59eaf/bhtsne-0.1.9.tar.gz (86kB)\n",
            "\u001b[K    100% |████████████████████████████████| 92kB 7.8MB/s \n",
            "\u001b[?25hRequirement already satisfied: numpy in /usr/local/lib/python3.6/dist-packages (from bhtsne) (1.14.6)\n",
            "Requirement already satisfied: cython in /usr/local/lib/python3.6/dist-packages (from bhtsne) (0.29.5)\n",
            "Building wheels for collected packages: bhtsne\n",
            "  Building wheel for bhtsne (setup.py) ... \u001b[?25ldone\n",
            "\u001b[?25h  Stored in directory: /root/.cache/pip/wheels/d3/11/da/b469506296148e4a04bb3bd5083052a2c5d44709851ed17c21\n",
            "Successfully built bhtsne\n",
            "Installing collected packages: bhtsne\n",
            "Successfully installed bhtsne-0.1.9\n"
          ],
          "name": "stdout"
        }
      ]
    },
    {
      "cell_type": "code",
      "metadata": {
        "id": "8QNksNMStB00",
        "colab_type": "code",
        "outputId": "ea101702-163e-4e29-d3fd-f564ce37288f",
        "colab": {
          "base_uri": "https://localhost:8080/",
          "height": 34
        }
      },
      "source": [
        "import unicodedata\n",
        "import sys\n",
        "import numpy as np\n",
        "import tempfile\n",
        "from six import string_types, reraise\n",
        "from copy import copy\n",
        "import os\n",
        "import re\n",
        "from tqdm import tqdm\n",
        "from keras.layers import Input, Dense, Dropout, Flatten, Reshape\n",
        "from keras.models import Model\n",
        "import matplotlib.pyplot as plt\n",
        "\n",
        "import chardet\n",
        "from bhtsne import tsne  #https://github.com/dominiek/python-bhtsne\n",
        "from sklearn.cluster import Birch\n",
        "\n",
        "\n",
        "class tempmap(np.memmap):\n",
        "  \"\"\"\n",
        "  Just a helper class for memmap numpy arrays to stay in the temporary directory.\n",
        "  \"\"\"\n",
        "  def __new__(subtype, dtype=np.uint8, mode='w+', offset=0,\n",
        "              shape=None, order='C'):\n",
        "      ntf = tempfile.NamedTemporaryFile()\n",
        "      self = np.memmap.__new__(subtype, ntf, dtype, mode, offset, shape, order)\n",
        "      self.temp_file_obj = ntf\n",
        "      return self\n",
        "\n",
        "  def __del__(self):\n",
        "      if hasattr(self,'temp_file_obj') and self.temp_file_obj is not None:\n",
        "          self.temp_file_obj.close()\n",
        "          # del self.temp_file_obj"
      ],
      "execution_count": 0,
      "outputs": [
        {
          "output_type": "stream",
          "text": [
            "Using TensorFlow backend.\n"
          ],
          "name": "stderr"
        }
      ]
    },
    {
      "cell_type": "markdown",
      "metadata": {
        "id": "IobMq8uywwCC",
        "colab_type": "text"
      },
      "source": [
        "## IMDB Dataset download & inspection"
      ]
    },
    {
      "cell_type": "markdown",
      "metadata": {
        "id": "yIdQhifghkht",
        "colab_type": "text"
      },
      "source": [
        "At this point, any dataset can be used, we have decided to use a dataset of IMDB movie reviews."
      ]
    },
    {
      "cell_type": "code",
      "metadata": {
        "id": "k9n6CaNJthOD",
        "colab_type": "code",
        "outputId": "93e4bdd2-99b5-44dc-9f18-68387ba4bee1",
        "colab": {
          "base_uri": "https://localhost:8080/",
          "height": 204
        }
      },
      "source": [
        "!wget http://ai.stanford.edu/~amaas/data/sentiment/aclImdb_v1.tar.gz\n",
        "!tar xfz aclImdb_v1.tar.gz"
      ],
      "execution_count": 0,
      "outputs": [
        {
          "output_type": "stream",
          "text": [
            "--2019-02-25 07:44:43--  http://ai.stanford.edu/~amaas/data/sentiment/aclImdb_v1.tar.gz\n",
            "Resolving ai.stanford.edu (ai.stanford.edu)... 171.64.68.10\n",
            "Connecting to ai.stanford.edu (ai.stanford.edu)|171.64.68.10|:80... connected.\n",
            "HTTP request sent, awaiting response... 200 OK\n",
            "Length: 84125825 (80M) [application/x-gzip]\n",
            "Saving to: ‘aclImdb_v1.tar.gz’\n",
            "\n",
            "aclImdb_v1.tar.gz   100%[===================>]  80.23M  19.2MB/s    in 7.3s    \n",
            "\n",
            "2019-02-25 07:44:51 (11.0 MB/s) - ‘aclImdb_v1.tar.gz’ saved [84125825/84125825]\n",
            "\n"
          ],
          "name": "stdout"
        }
      ]
    },
    {
      "cell_type": "code",
      "metadata": {
        "id": "3VtNgqUUtlLb",
        "colab_type": "code",
        "outputId": "cd6a9bbe-4678-451d-d085-d30bc8f09cd3",
        "colab": {
          "base_uri": "https://localhost:8080/",
          "height": 68
        }
      },
      "source": [
        "# Vocabulary: Loads all words used, starting by the most frequent.\n",
        "# We need the vocabulary only for displaying the results.\n",
        "vocab_cut = 20000 # Keep only most frequent words rather than all\n",
        "\n",
        "with open('aclImdb/imdb.vocab', \"rb\") as f:\n",
        "    rawdata=f.read()\n",
        "    \n",
        "    # automatic inspect of the encoding and data, in case we forget :)\n",
        "    print(chardet.detect(rawdata))\n",
        "    f.seek(0)\n",
        "    vocab = [word.decode(\"utf8\").rstrip() for word in f]\n",
        "    \n",
        "    # Just saving memory - the long tail occurs too few times\n",
        "    # for the model to learn anything anyway\n",
        "    vocab = vocab[:vocab_cut]\n",
        "    print('%d words in vocabulary' % (len(vocab),))\n",
        "    print(type(vocab[0]))\n",
        "\n",
        "# append some number to the vocabulary (for disaplying resons, does not affect training)\n",
        "for i in range(99):\n",
        "  vocab.append(str(i))"
      ],
      "execution_count": 0,
      "outputs": [
        {
          "output_type": "stream",
          "text": [
            "{'encoding': 'utf-8', 'confidence': 0.99, 'language': ''}\n",
            "20000 words in vocabulary\n",
            "<class 'str'>\n"
          ],
          "name": "stdout"
        }
      ]
    },
    {
      "cell_type": "markdown",
      "metadata": {
        "id": "2bMzDBv7xAbk",
        "colab_type": "text"
      },
      "source": [
        "## Nonautoencoder baseline and helper functions"
      ]
    },
    {
      "cell_type": "markdown",
      "metadata": {
        "id": "oixos7t2xrTi",
        "colab_type": "text"
      },
      "source": [
        "The text processing should employ tokenization of the text and some helper functions like deaccenting, because autoencoders (and other text procesing algorithms and models in ML) do not work with text naturally.  \n",
        "  \n",
        " Generally we have more options:  \n",
        " 1. Embedd each word into defined dimensional space by a trained embedding.\n",
        " 2. Put onehot representation of each word or character into the network\n",
        " 3. Use 'feature vectors' for each word\n",
        "   \n",
        "For our first try with ML model, lets use feature vectors.\n",
        "- the feature vector generator does not use memory as much as embeddings\n",
        "- feature vectors are 'fair' to our model, meaning that embeddings are usually pretrained and will already bear more information\n",
        "- every word has its feature vector (as opposed to the fact, that not all words have an embedding)\n",
        "- character level models can be a tiny bit harder to understand or train\n",
        "  \n",
        "Feature vector function used here ('features_from_text') is usually used for a text analysis task, because it does count the number of lowercase/uppercase letter/digits and character frequencies.  \n",
        "\n",
        "With this function we are, moreover, able to lookup back into a dictionary (will be shown)."
      ]
    },
    {
      "cell_type": "code",
      "metadata": {
        "id": "Fh_Utgy9tsKN",
        "colab_type": "code",
        "outputId": "304458d9-13fd-4d1a-cbab-ec14ba63a67f",
        "colab": {
          "base_uri": "https://localhost:8080/",
          "height": 105
        }
      },
      "source": [
        "def text_tokens(text):\n",
        "  \"\"\"\n",
        "  Tokenization is the proces that turns a text sentence into a sequence of tokens,\n",
        "  i.e. decides what is a word and what is a separator.\n",
        "  \"\"\"  \n",
        "  text = re.sub(\"\\\\s\", \" \", text)\n",
        "  text = re.sub(\"<br/>\", \" \", text)\n",
        "  text = re.sub(\"<br />\", \" \", text)\n",
        "  text = re.sub(\"<br>\", \" \", text)\n",
        "  #text = re.sub(\"[^a-zA-Z' ]\", \"\", text)\n",
        "  tokens = re.split('(\\W+)', text) # text.split(' ')\n",
        "  tokens = [re.sub(\" \", \"\", token) for token in tokens if token not in [' ', '']]\n",
        "  return tokens\n",
        "\n",
        "# This is our vocabulary of characters we will work with, other will be forgotten\n",
        "default_char_list = u' abcdefghijklmnopqrstuvwxyz0123456789,.-+:/%?$£€#()&\\''\n",
        "default_char_vocab = {letter: i for i, letter in enumerate(list(default_char_list))}\n",
        "\n",
        "\n",
        "def remove_accents(input_str):\n",
        "  \"\"\"\n",
        "  We do not want accents and special characters, so lets normalize the text.\n",
        "  \"\"\"\n",
        "  try:\n",
        "      # variant:\n",
        "      # unicoded = unicode(input_char)\n",
        "      # # .decode('utf-8', 'ignore')\n",
        "      # nfkd_form = unicodedata.normalize('NFKD', unicoded)\n",
        "      # only_ascii = nfkd_form.encode('ASCII', 'ignore')\n",
        "      # if len(only_ascii) <= 0:\n",
        "      #    return nfkd_form\n",
        "\n",
        "      if len(input_str) == 0:\n",
        "        return u\"\"\n",
        "      unistr = input_str.replace(u'\\xf8', u'o')\n",
        "      unistr = unistr.replace(u'\\xd8', u'O')\n",
        "\n",
        "      unistr = \"\".join(aChar\n",
        "                     for aChar in unicodedata.normalize(\"NFD\", unistr)\n",
        "                     if not unicodedata.combining(aChar))\n",
        "      return unistr\n",
        "  except Exception as e:\n",
        "      print(\"at {}\".format(input_str))\n",
        "      reraise(type(e), e, sys.exc_info()[2])\n",
        "\n",
        "        \n",
        "def base_text_features(text, features=['len', 'upper', 'lower', 'alpha', 'digit'],\n",
        "                       scale=20,\n",
        "                       char_vocab=default_char_vocab):\n",
        "  \"\"\"\n",
        "  Function, that extract features from the given text based on given parameters.\n",
        "  If character vocabulary is given, the features contain character frequencies.\n",
        "  \"\"\"\n",
        "  def text_histogram(text, char_vocab=default_char_vocab,\n",
        "                     char_vocab_make_lower=True):\n",
        "      hist = [0] * len(default_char_vocab.keys())\n",
        "      for letter in text:\n",
        "          if char_vocab_make_lower:\n",
        "              luse = letter.lower()\n",
        "          else:\n",
        "              luse = letter\n",
        "          luse = remove_accents(luse)\n",
        "          if luse in default_char_vocab:\n",
        "              hist[default_char_vocab[luse]] += 1\n",
        "      return hist\n",
        "\n",
        "  def count_uppers(text):\n",
        "      return sum([letter.isupper() for letter in text])\n",
        "\n",
        "  def count_lowers(text):\n",
        "      return sum([letter.islower() for letter in text])\n",
        "\n",
        "  def count_alphas(text):\n",
        "      return sum([letter.isalpha() for letter in text])\n",
        "\n",
        "  def count_digits(text):\n",
        "      return sum([letter.isdigit() for letter in text])\n",
        "\n",
        "  use_cases = {\n",
        "      'len': len,\n",
        "      'upper': count_uppers,\n",
        "      'lower': count_lowers,\n",
        "      'alpha': count_alphas,\n",
        "      'digit': count_digits,\n",
        "  }\n",
        "  repr = [use_cases[feature](text) for feature in features]\n",
        "  if char_vocab is not None:\n",
        "      repr.extend(text_histogram(text, default_char_vocab))\n",
        "\n",
        "  if scale is not None:\n",
        "      for i in range(len(repr)):\n",
        "          repr[i] = min(repr[i] / scale, 1.0)\n",
        "\n",
        "  return repr\n",
        "\n",
        "\n",
        "def features_from_text(text, values_scales=[100.0], scale=20):\n",
        "  \"\"\"\n",
        "  Lets extract features from the whole word, beginning of a word and ending of a word.\n",
        "  (Also if the given word is a number, lets scale it into [0,1] interval;\n",
        "  this should help the network with text, that does come after a number as '1 st')\n",
        "  \"\"\"\n",
        "  try:\n",
        "      xtextasval = float(text.replace(\" \", \"\").replace(\"%\", \"\"))\n",
        "      xtextisval = 1.0\n",
        "      assert np.isfinite(xtextasval)\n",
        "  except:\n",
        "      xtextasval = 0.0\n",
        "      xtextisval = 0.0\n",
        "  if xtextisval > 0.0:  # is actually a value\n",
        "      xtextasval = [min(xtextasval / scale, 1.0) for scale in values_scales]\n",
        "  else:\n",
        "      xtextasval = [0.0] * len(values_scales)\n",
        "\n",
        "  allfeats = base_text_features(text, scale=scale, features=['len', 'upper', 'lower', 'alpha', 'digit'])\n",
        "  if len(text) <= 1:\n",
        "      # just if we use the histograms for first two letters and last two letters, what to do in smaller\n",
        "      text_to_handle = \" \" + text + \" \"\n",
        "  else:\n",
        "      text_to_handle = text\n",
        "  begfeats = base_text_features(text_to_handle[0:2], scale=scale, features=['upper', 'lower', 'alpha', 'digit'])\n",
        "  endfeats = base_text_features(text_to_handle[-2:0], scale=scale, features=['upper', 'lower', 'alpha', 'digit'])\n",
        "\n",
        "  return allfeats + begfeats + endfeats + xtextasval + [xtextisval]\n",
        "\n",
        "\n",
        "print(\"Lets test our code:\")\n",
        "print(\"Does tokenization leave a word in a vocabulary alone?: {}\".\n",
        "      format(text_tokens(vocab[1552])))\n",
        "print(u\"Word '{}' is, for example, translated as {} \".format(vocab[1552], features_from_text(vocab[1552])))\n",
        "print(u\"Words '{}' is deaccented as {}\".format(vocab[1552], remove_accents(vocab[1552])))"
      ],
      "execution_count": 0,
      "outputs": [
        {
          "output_type": "stream",
          "text": [
            "Lets test our code:\n",
            "Does tokenization leave a word in a vocabulary alone?: ['cliché']\n",
            "Word 'cliché' is, for example, translated as [0.3, 0.0, 0.3, 0.3, 0.0, 0.0, 0.0, 0.0, 0.1, 0.0, 0.05, 0.0, 0.0, 0.05, 0.05, 0.0, 0.0, 0.05, 0.0, 0.0, 0.0, 0.0, 0.0, 0.0, 0.0, 0.0, 0.0, 0.0, 0.0, 0.0, 0.0, 0.0, 0.0, 0.0, 0.0, 0.0, 0.0, 0.0, 0.0, 0.0, 0.0, 0.0, 0.0, 0.0, 0.0, 0.0, 0.0, 0.0, 0.0, 0.0, 0.0, 0.0, 0.0, 0.0, 0.0, 0.0, 0.0, 0.0, 0.0, 0.1, 0.1, 0.0, 0.0, 0.0, 0.0, 0.05, 0.0, 0.0, 0.0, 0.0, 0.0, 0.0, 0.0, 0.0, 0.05, 0.0, 0.0, 0.0, 0.0, 0.0, 0.0, 0.0, 0.0, 0.0, 0.0, 0.0, 0.0, 0.0, 0.0, 0.0, 0.0, 0.0, 0.0, 0.0, 0.0, 0.0, 0.0, 0.0, 0.0, 0.0, 0.0, 0.0, 0.0, 0.0, 0.0, 0.0, 0.0, 0.0, 0.0, 0.0, 0.0, 0.0, 0.0, 0.0, 0.0, 0.0, 0.0, 0.0, 0.0, 0.0, 0.0, 0.0, 0.0, 0.0, 0.0, 0.0, 0.0, 0.0, 0.0, 0.0, 0.0, 0.0, 0.0, 0.0, 0.0, 0.0, 0.0, 0.0, 0.0, 0.0, 0.0, 0.0, 0.0, 0.0, 0.0, 0.0, 0.0, 0.0, 0.0, 0.0, 0.0, 0.0, 0.0, 0.0, 0.0, 0.0, 0.0, 0.0, 0.0, 0.0, 0.0, 0.0, 0.0, 0.0, 0.0, 0.0, 0.0, 0.0, 0.0, 0.0, 0.0, 0.0, 0.0, 0.0] \n",
            "Words 'cliché' is deaccented as cliche\n"
          ],
          "name": "stdout"
        }
      ]
    },
    {
      "cell_type": "markdown",
      "metadata": {
        "id": "7BpXom_uhCHS",
        "colab_type": "text"
      },
      "source": [
        "When using any form of inner representations, we would need to have a function, that rewrites the inner representation into an existing word to be understandable for us.  "
      ]
    },
    {
      "cell_type": "code",
      "metadata": {
        "id": "zErw9LwDv5l6",
        "colab_type": "code",
        "outputId": "14e4294d-9d4f-4802-dc4d-54debda227b7",
        "colab": {
          "base_uri": "https://localhost:8080/",
          "height": 153
        }
      },
      "source": [
        "def vocab_finder(item, vocab, key_f=None, apply_on_item_too=True):\n",
        "  \"\"\"\n",
        "  A modular function to allow for searching an item against vocabulary of items\n",
        "  based on the minimal distance. \n",
        "  The modularity allows for applying a function over the vocabulary\n",
        "  or query items.\n",
        "  \"\"\"\n",
        "  if apply_on_item_too:\n",
        "      fitem = key_f(item) if key_f else item\n",
        "  else:\n",
        "      fitem = item\n",
        "  mindiff = None\n",
        "  minitem = None\n",
        "  \n",
        "  for v, vitem in enumerate(vocab):\n",
        "      fvitem = key_f(vitem) if key_f else vitem\n",
        "      \n",
        "      diff = np.mean(np.square(np.asarray(fitem) - np.asarray(fvitem)))        \n",
        "      if mindiff is None or diff < mindiff:\n",
        "          mindiff = diff\n",
        "          minitem = (v, vitem)\n",
        "  return minitem, mindiff\n",
        "\n",
        "\n",
        "print(\"A test that/how the vocabulary search works: \\n\")\n",
        "print(vocab_finder(\"the\", vocab, features_from_text))\n",
        "print(vocab_finder(\"nonsensualword\", vocab, features_from_text))\n",
        "print(vocab_finder(\"potential\", vocab, features_from_text))\n",
        "print(\"\")\n",
        "print(\"Idea: Try to think about the feature vector as a hash and find collisions in the provided hashing over the vocabulary\")\n",
        "print(\"Idea: Try the code with bigger/smaller vocabulary\")"
      ],
      "execution_count": 0,
      "outputs": [
        {
          "output_type": "stream",
          "text": [
            "A test that/how the vocabulary search works: \n",
            "\n",
            "((0, 'the'), 0.0)\n",
            "((15379, 'unprofessional'), 0.0001149425287356322)\n",
            "((948, 'potential'), 0.0)\n",
            "\n",
            "Idea: Try to think about the feature vector as a hash and find collisions in the provided hashing over the vocabulary\n",
            "Idea: Try the code with bigger/smaller vocabulary\n"
          ],
          "name": "stdout"
        }
      ]
    },
    {
      "cell_type": "markdown",
      "metadata": {
        "id": "hFV-kb6xxmOV",
        "colab_type": "text"
      },
      "source": [
        "## Dataset preparation"
      ]
    },
    {
      "cell_type": "markdown",
      "metadata": {
        "id": "B51wG17j0NjS",
        "colab_type": "text"
      },
      "source": [
        "We will load a small subset of the dataset (can be increased for speed tradeoff :) )  and process it together with vocabulary with our feature vectors."
      ]
    },
    {
      "cell_type": "code",
      "metadata": {
        "id": "yYh-LIFRv9Ad",
        "colab_type": "code",
        "outputId": "beaef5f9-66e5-4588-b800-6cdda8987f9c",
        "colab": {
          "base_uri": "https://localhost:8080/",
          "height": 88
        }
      },
      "source": [
        "def load_dataset(dirname, train_set_slice_size=5000):\n",
        "  \"\"\"\n",
        "  Loads and tokenizes a dataset into a list.\n",
        "  Label loading included, even though we will not use it for autoencoders.\n",
        "  Set train_set_slice_size to 500 for fast tryout.\n",
        "  \"\"\"\n",
        "  X, y = [], []\n",
        "  # Review files: neg/0_3.txt neg/10000_4.txt neg/10001_4.txt ...\n",
        "  for y_val, y_label in enumerate(['neg', 'pos']):\n",
        "      y_dir = os.path.join(dirname, y_label)\n",
        "      for fname in os.listdir(y_dir):\n",
        "          fpath = os.path.join(y_dir, fname)\n",
        "          with open(fpath) as f:\n",
        "              tokens = text_tokens(f.read())            \n",
        "          X.append(tokens)            \n",
        "          y.append(y_val)  # 0 for 'neg', 1 for 'pos'\n",
        "\n",
        "          if len(X) >= train_set_slice_size:\n",
        "            break\n",
        "      if len(X) >= train_set_slice_size:\n",
        "        break\n",
        "  return X, y\n",
        "\n",
        "print(\"loading dataset\")\n",
        "X_train_orig, y_train = load_dataset('aclImdb/train/')\n",
        "print(\"The loaded dataset has length {} \\n sample tokenized sentence from dataset is: {}\"\n",
        "      .format(len(X_train_orig), X_train_orig[0]))"
      ],
      "execution_count": 0,
      "outputs": [
        {
          "output_type": "stream",
          "text": [
            "loading dataset\n",
            "The loaded dataset has length 5000 \n",
            " sample tokenized sentence from dataset is: ['The', 'basic', 'plot', 'in', 'this', 'movie', 'isn', \"'\", 't', 'bad', '.', 'A', 'lady', 'makes', 'it', 'big', 'and', 'comes', 'back', 'to', 'her', 'alma', 'mater', 'to', 'be', 'adored', '.', 'But', ',', 'despite', 'good', 'acting', 'by', 'Robert', 'Young', 'and', 'Eve', 'Arden', ',', 'the', 'movie', 'is', 'a', 'mess', '.', 'The', 'blame', 'for', 'this', 'I', 'place', 'on', 'either', 'Joan', 'Crawford', 'or', 'the', 'director', 'or', 'both', ',', 'as', 'her', 'performance', 'is', 'just', 'awful', '.', 'Instead', 'of', 'being', 'a', 'real', 'person', ',', 'she', 'does', 'a', 'wonderful', 'impersonation', 'of', 'a', 'deer', 'caught', 'in', 'the', 'headlights', '.', 'In', 'other', 'words', ',', 'she', 'stares', 'off', 'into', 'space', 'and', 'has', 'a', '\"', 'golly', 'I', 'am', 'SOOOO', 'stunned', '\"', 'expression', '.', 'After', 'just', 'a', 'few', 'minutes', 'it', 'really', 'became', 'annoying', 'for', 'me', '.', 'Now', 'this', 'is', 'certainly', 'not', 'the', 'only', 'Crawford', 'film', 'I', 'dislike', 'for', 'her', 'performance', ',', 'as', 'she', 'had', 'done', 'more', 'than', 'her', 'share', 'of', 'overacting', '--', 'in', 'films', 'such', 'as', 'JOHNNY', 'GUITAR', 'or', 'many', 'of', 'her', 'later', 'films', ',', 'such', 'as', 'BERSERK', '!', 'My', 'advice', 'is', 'to', 'try', 'a', 'different', 'Crawford', 'film', '--', 'there', 'certainly', 'were', 'better', '.']\n"
          ],
          "name": "stdout"
        }
      ]
    },
    {
      "cell_type": "code",
      "metadata": {
        "id": "WFYhYBGWv_wh",
        "colab_type": "code",
        "outputId": "3ec89f21-183a-4300-e506-b9b5134cdda7",
        "colab": {
          "base_uri": "https://localhost:8080/",
          "height": 136
        }
      },
      "source": [
        "def prepare_dataset_with_embeddings(vocab,\n",
        "                                    embedd_f=features_from_text,\n",
        "                                    X_train=X_train_orig):\n",
        "  \"\"\"\n",
        "  Uses selected embedding function (which is here our feature vector function)\n",
        "  and turns dataset and vocabulary into its embedding.  \n",
        "  \"\"\"\n",
        "  shape = [len(X_train), max(len(text) for text in X_train)] + [len(embedd_f(\"default\"))]\n",
        "\n",
        "  print(\"Padded shape of training set is {}\".format(shape))\n",
        "  print(\"Running embedding function over the dataset ...\")\n",
        "\n",
        "  train_data = tempmap(shape=tuple(shape), dtype=np.float32) #np.zeros(shape)\n",
        "  for i, sentence in tqdm(enumerate(X_train), total=len(X_train)):\n",
        "      for j, word in enumerate(sentence):\n",
        "          train_data[i, j, :] = embedd_f(word)\n",
        "  print(\"Dataset prepared with embeddings into shape {}\".\n",
        "        format(train_data.shape))\n",
        "  \n",
        "  print(\"Running embedding function over the vocabulary ...\")\n",
        "  vocab_embedds = [(embedd_f(word), word) for word in vocab]\n",
        "  print(\"Done ...\")\n",
        "  return train_data, vocab_embedds\n",
        "\n",
        "print(\"Embeddings: creating dataset of floats from dataset of tokenized texts:\")\n",
        "train_data, vocab_embedds = prepare_dataset_with_embeddings(vocab,\n",
        "                                                             features_from_text)"
      ],
      "execution_count": 0,
      "outputs": [
        {
          "output_type": "stream",
          "text": [
            "  0%|          | 3/5000 [00:00<03:17, 25.24it/s]"
          ],
          "name": "stderr"
        },
        {
          "output_type": "stream",
          "text": [
            "Embeddings: creating dataset of floats from dataset of tokenized texts:\n",
            "Padded shape of training set is [5000, 1807, 174]\n",
            "Running embedding function over the dataset ...\n"
          ],
          "name": "stdout"
        },
        {
          "output_type": "stream",
          "text": [
            "100%|██████████| 5000/5000 [03:15<00:00, 25.54it/s]\n"
          ],
          "name": "stderr"
        },
        {
          "output_type": "stream",
          "text": [
            "Dataset prepared with embeddings into shape (5000, 1807, 174)\n",
            "Running embedding function over the vocabulary ...\n",
            "Done ...\n"
          ],
          "name": "stdout"
        }
      ]
    },
    {
      "cell_type": "markdown",
      "metadata": {
        "id": "OYhtQrM50f_P",
        "colab_type": "text"
      },
      "source": [
        "## Autoencoders on embeddings/feature vectors:\n",
        "We will use the most simple autoencoder architecture, that just flattens the representation, runs it through a bottleneck with a dropout, then decodes and inflates again.  \n",
        "![architecture](https://drive.google.com/uc?export=view&id=1KMfr0cLY3cvp9KbqOjiQQZM9Ae7LK7MP)  \n",
        "(Image source: http://uksim.info/isms2016/CD/data/0665a174.pdf)  \n",
        "  \n",
        "The dropout mechanism  \n",
        "![dropout](https://drive.google.com/uc?export=view&id=1nYxmBMIx3QPFqBw-Q1hJOr-Hvi7ASx7d)  \n",
        "\n",
        "(Dropout illustration from https://towardsdatascience.com/applied-deep-learning-part-4-convolutional-neural-networks-584bc134c1e2 )"
      ]
    },
    {
      "cell_type": "code",
      "metadata": {
        "id": "C7PEGOnXwIHl",
        "colab_type": "code",
        "outputId": "98cd9924-483d-44d9-b14b-c6b5a30fde9f",
        "colab": {
          "base_uri": "https://localhost:8080/",
          "height": 3692
        }
      },
      "source": [
        "def basic_autoencoder_architecture(window_size, encoding_dim,\n",
        "                                   train_data_shape):\n",
        "  \"\"\"  \n",
        "  Copied more or less from the keras blog:\n",
        "  https://blog.keras.io/building-autoencoders-in-keras.html\n",
        "  \n",
        "  encoding_dim is the size of our encoded representations\n",
        "  \"\"\"\n",
        "  inp_shape = window_size * train_data_shape[-1]  # flattened representation size\n",
        "\n",
        "  print(\"Architecture will compress data to {} fraction\"\n",
        "        .format(encoding_dim / inp_shape))\n",
        "\n",
        "  # this is our input placeholder\n",
        "  input_data = Input(shape=(window_size, train_data_shape[-1], ))\n",
        "  input_flat = Flatten()(input_data)\n",
        "  # \"encoded\" is the encoded representation of the input\n",
        "  encoded = Dense(encoding_dim, activation='tanh')(Dropout(0.15)(input_flat))\n",
        "  \n",
        "  # defined order of layers to apply when building atuencoder.\n",
        "  # If we instantiate the layers now and then only apply them functionally,\n",
        "  # they will share their (trained) weights\n",
        "  decoder_layers = [Dense(inp_shape, activation='tanh'),\n",
        "                    Reshape((window_size, train_data_shape[-1]))]\n",
        "  def apply_decoder_layers(inner_input):\n",
        "    out = inner_input\n",
        "    for layer in decoder_layers:\n",
        "      out = layer(out)\n",
        "    return out\n",
        "\n",
        "  # this model maps an input to its reconstruction\n",
        "  autoencoder = Model(input_data, apply_decoder_layers(encoded))\n",
        "\n",
        "  # this model maps an input to its encoded representation\n",
        "  encoder = Model(input_data, encoded)\n",
        "\n",
        "  # create a placeholder for an encoded input\n",
        "  encoded_input = Input(shape=(encoding_dim,))\n",
        "\n",
        "  # create the decoder model\n",
        "  decoder = Model(encoded_input, apply_decoder_layers(encoded_input))\n",
        "\n",
        "  autoencoder.compile(optimizer='adam', loss='mse')\n",
        "  return autoencoder, encoder, decoder\n",
        "\n",
        "\n",
        "def train_and_predict(architecture_f,\n",
        "                      train_data,\n",
        "                      window_size,\n",
        "                      valid_split_size=100, \n",
        "                      epochs=100, batch_size=100, **kwargs): \n",
        "    \"\"\"\n",
        "    The definition of the training process, which will create the autoencoder and\n",
        "    then run training.\n",
        "    Also processes training set into its inner representation in the autoencoder.\n",
        "    Outputs not only the autoencoder, but also the encoder and decoder.\n",
        "    \"\"\"\n",
        "    print(kwargs)\n",
        "    autoencoder, encoder, decoder = architecture_f(window_size=window_size, **kwargs)\n",
        "    \n",
        "    x_train = train_data[:-valid_split_size, :window_size, :].astype('float32')\n",
        "    x_test  = train_data[-valid_split_size:, :window_size, :].astype('float32')\n",
        "    #x_train = x_train.reshape((len(x_train), np.prod(x_train.shape[1:])))\n",
        "    #x_test = x_test.reshape((len(x_test), np.prod(x_test.shape[1:])))\n",
        "    print(x_train.shape)\n",
        "    print(x_test.shape)\n",
        "\n",
        "    autoencoder.fit(x_train, x_train,\n",
        "                    epochs=epochs,\n",
        "                    batch_size=batch_size,\n",
        "                    verbose=1,\n",
        "                    shuffle=True,\n",
        "                    validation_data=(x_test, x_test))\n",
        "\n",
        "    x_train_pred = encoder.predict(x_train)\n",
        "    x_test_pred = encoder.predict(x_test)\n",
        "    print(\"Predicted data on training and test\")\n",
        "    return x_train_pred, x_test_pred, autoencoder, encoder, decoder\n",
        "\n",
        "\n",
        "x_train_pred, x_test_pred, autoencoder, encoder, decoder = \\\n",
        "    train_and_predict(basic_autoencoder_architecture,\n",
        "                      train_data=train_data,\n",
        "                      window_size=20,\n",
        "                      encoding_dim=800,\n",
        "                      train_data_shape=train_data.shape,\n",
        "                     )"
      ],
      "execution_count": 0,
      "outputs": [
        {
          "output_type": "stream",
          "text": [
            "{'encoding_dim': 800, 'train_data_shape': (5000, 1807, 174)}\n",
            "Architecture will compress data to 0.22988505747126436 fraction\n",
            "WARNING:tensorflow:From /usr/local/lib/python3.6/dist-packages/tensorflow/python/ops/control_flow_ops.py:423: colocate_with (from tensorflow.python.framework.ops) is deprecated and will be removed in a future version.\n",
            "Instructions for updating:\n",
            "Colocations handled automatically by placer.\n",
            "WARNING:tensorflow:From /usr/local/lib/python3.6/dist-packages/keras/backend/tensorflow_backend.py:3445: calling dropout (from tensorflow.python.ops.nn_ops) with keep_prob is deprecated and will be removed in a future version.\n",
            "Instructions for updating:\n",
            "Please use `rate` instead of `keep_prob`. Rate should be set to `rate = 1 - keep_prob`.\n",
            "(4900, 20, 174)\n",
            "(100, 20, 174)\n",
            "WARNING:tensorflow:From /usr/local/lib/python3.6/dist-packages/tensorflow/python/ops/math_ops.py:3066: to_int32 (from tensorflow.python.ops.math_ops) is deprecated and will be removed in a future version.\n",
            "Instructions for updating:\n",
            "Use tf.cast instead.\n",
            "Train on 4900 samples, validate on 100 samples\n",
            "Epoch 1/100\n",
            "4900/4900 [==============================] - 4s 724us/step - loss: 6.8563e-04 - val_loss: 4.1126e-04\n",
            "Epoch 2/100\n",
            "4900/4900 [==============================] - 1s 124us/step - loss: 3.5032e-04 - val_loss: 2.5312e-04\n",
            "Epoch 3/100\n",
            "4900/4900 [==============================] - 1s 124us/step - loss: 2.3089e-04 - val_loss: 1.7599e-04\n",
            "Epoch 4/100\n",
            "4900/4900 [==============================] - 1s 124us/step - loss: 1.9019e-04 - val_loss: 1.5395e-04\n",
            "Epoch 5/100\n",
            "4900/4900 [==============================] - 1s 129us/step - loss: 1.6906e-04 - val_loss: 1.3659e-04\n",
            "Epoch 6/100\n",
            "4900/4900 [==============================] - 1s 123us/step - loss: 1.5285e-04 - val_loss: 1.2325e-04\n",
            "Epoch 7/100\n",
            "4900/4900 [==============================] - 1s 125us/step - loss: 1.4123e-04 - val_loss: 1.1287e-04\n",
            "Epoch 8/100\n",
            "4900/4900 [==============================] - 1s 122us/step - loss: 1.3059e-04 - val_loss: 1.0527e-04\n",
            "Epoch 9/100\n",
            "4900/4900 [==============================] - 1s 122us/step - loss: 1.2394e-04 - val_loss: 9.8854e-05\n",
            "Epoch 10/100\n",
            "4900/4900 [==============================] - 1s 125us/step - loss: 1.1770e-04 - val_loss: 9.3849e-05\n",
            "Epoch 11/100\n",
            "4900/4900 [==============================] - 1s 126us/step - loss: 1.1245e-04 - val_loss: 8.9158e-05\n",
            "Epoch 12/100\n",
            "4900/4900 [==============================] - 1s 125us/step - loss: 1.0626e-04 - val_loss: 8.5197e-05\n",
            "Epoch 13/100\n",
            "4900/4900 [==============================] - 1s 124us/step - loss: 1.0235e-04 - val_loss: 8.1876e-05\n",
            "Epoch 14/100\n",
            "4900/4900 [==============================] - 1s 124us/step - loss: 9.7774e-05 - val_loss: 7.8115e-05\n",
            "Epoch 15/100\n",
            "4900/4900 [==============================] - 1s 124us/step - loss: 9.3941e-05 - val_loss: 7.4745e-05\n",
            "Epoch 16/100\n",
            "4900/4900 [==============================] - 1s 127us/step - loss: 9.1007e-05 - val_loss: 7.1992e-05\n",
            "Epoch 17/100\n",
            "4900/4900 [==============================] - 1s 127us/step - loss: 8.7409e-05 - val_loss: 6.9155e-05\n",
            "Epoch 18/100\n",
            "4900/4900 [==============================] - 1s 124us/step - loss: 8.4353e-05 - val_loss: 6.6616e-05\n",
            "Epoch 19/100\n",
            "4900/4900 [==============================] - 1s 124us/step - loss: 8.1891e-05 - val_loss: 6.4117e-05\n",
            "Epoch 20/100\n",
            "4900/4900 [==============================] - 1s 126us/step - loss: 7.9335e-05 - val_loss: 6.2014e-05\n",
            "Epoch 21/100\n",
            "4900/4900 [==============================] - 1s 126us/step - loss: 7.6595e-05 - val_loss: 6.0034e-05\n",
            "Epoch 22/100\n",
            "4900/4900 [==============================] - 1s 126us/step - loss: 7.5263e-05 - val_loss: 5.7972e-05\n",
            "Epoch 23/100\n",
            "4900/4900 [==============================] - 1s 126us/step - loss: 7.3236e-05 - val_loss: 5.6571e-05\n",
            "Epoch 24/100\n",
            "4900/4900 [==============================] - 1s 125us/step - loss: 7.1257e-05 - val_loss: 5.4306e-05\n",
            "Epoch 25/100\n",
            "4900/4900 [==============================] - 1s 128us/step - loss: 6.9413e-05 - val_loss: 5.3573e-05\n",
            "Epoch 26/100\n",
            "4900/4900 [==============================] - 1s 126us/step - loss: 6.8434e-05 - val_loss: 5.1328e-05\n",
            "Epoch 27/100\n",
            "4900/4900 [==============================] - 1s 126us/step - loss: 6.6724e-05 - val_loss: 5.0723e-05\n",
            "Epoch 28/100\n",
            "4900/4900 [==============================] - 1s 124us/step - loss: 6.5219e-05 - val_loss: 4.9493e-05\n",
            "Epoch 29/100\n",
            "4900/4900 [==============================] - 1s 125us/step - loss: 6.4919e-05 - val_loss: 4.8922e-05\n",
            "Epoch 30/100\n",
            "4900/4900 [==============================] - 1s 125us/step - loss: 6.3556e-05 - val_loss: 4.6864e-05\n",
            "Epoch 31/100\n",
            "4900/4900 [==============================] - 1s 125us/step - loss: 6.1949e-05 - val_loss: 4.6253e-05\n",
            "Epoch 32/100\n",
            "4900/4900 [==============================] - 1s 127us/step - loss: 6.1513e-05 - val_loss: 4.5653e-05\n",
            "Epoch 33/100\n",
            "4900/4900 [==============================] - 1s 124us/step - loss: 6.0979e-05 - val_loss: 4.4678e-05\n",
            "Epoch 34/100\n",
            "4900/4900 [==============================] - 1s 129us/step - loss: 5.9952e-05 - val_loss: 4.3149e-05\n",
            "Epoch 35/100\n",
            "4900/4900 [==============================] - 1s 123us/step - loss: 5.8719e-05 - val_loss: 4.2394e-05\n",
            "Epoch 36/100\n",
            "4900/4900 [==============================] - 1s 123us/step - loss: 5.8095e-05 - val_loss: 4.1683e-05\n",
            "Epoch 37/100\n",
            "4900/4900 [==============================] - 1s 124us/step - loss: 5.7710e-05 - val_loss: 4.0860e-05\n",
            "Epoch 38/100\n",
            "4900/4900 [==============================] - 1s 123us/step - loss: 5.7043e-05 - val_loss: 4.0600e-05\n",
            "Epoch 39/100\n",
            "4900/4900 [==============================] - 1s 126us/step - loss: 5.6620e-05 - val_loss: 4.0175e-05\n",
            "Epoch 40/100\n",
            "4900/4900 [==============================] - 1s 123us/step - loss: 5.6228e-05 - val_loss: 3.9404e-05\n",
            "Epoch 41/100\n",
            "4900/4900 [==============================] - 1s 125us/step - loss: 5.5293e-05 - val_loss: 3.8976e-05\n",
            "Epoch 42/100\n",
            "4900/4900 [==============================] - 1s 125us/step - loss: 5.4466e-05 - val_loss: 3.9115e-05\n",
            "Epoch 43/100\n",
            "4900/4900 [==============================] - 1s 123us/step - loss: 5.4260e-05 - val_loss: 3.9250e-05\n",
            "Epoch 44/100\n",
            "4900/4900 [==============================] - 1s 125us/step - loss: 5.4338e-05 - val_loss: 3.7641e-05\n",
            "Epoch 45/100\n",
            "4900/4900 [==============================] - 1s 125us/step - loss: 5.3675e-05 - val_loss: 3.7158e-05\n",
            "Epoch 46/100\n",
            "4900/4900 [==============================] - 1s 125us/step - loss: 5.3371e-05 - val_loss: 3.6418e-05\n",
            "Epoch 47/100\n",
            "4900/4900 [==============================] - 1s 123us/step - loss: 5.2801e-05 - val_loss: 3.6568e-05\n",
            "Epoch 48/100\n",
            "4900/4900 [==============================] - 1s 123us/step - loss: 5.2685e-05 - val_loss: 3.5152e-05\n",
            "Epoch 49/100\n",
            "4900/4900 [==============================] - 1s 125us/step - loss: 5.1739e-05 - val_loss: 3.5174e-05\n",
            "Epoch 50/100\n",
            "4900/4900 [==============================] - 1s 124us/step - loss: 5.1320e-05 - val_loss: 3.4468e-05\n",
            "Epoch 51/100\n",
            "4900/4900 [==============================] - 1s 123us/step - loss: 5.1311e-05 - val_loss: 3.4264e-05\n",
            "Epoch 52/100\n",
            "4900/4900 [==============================] - 1s 123us/step - loss: 5.1410e-05 - val_loss: 3.3528e-05\n",
            "Epoch 53/100\n",
            "4900/4900 [==============================] - 1s 123us/step - loss: 5.0944e-05 - val_loss: 3.3308e-05\n",
            "Epoch 54/100\n",
            "4900/4900 [==============================] - 1s 124us/step - loss: 5.1037e-05 - val_loss: 3.3807e-05\n",
            "Epoch 55/100\n",
            "4900/4900 [==============================] - 1s 123us/step - loss: 5.0959e-05 - val_loss: 3.2950e-05\n",
            "Epoch 56/100\n",
            "4900/4900 [==============================] - 1s 126us/step - loss: 5.0334e-05 - val_loss: 3.2554e-05\n",
            "Epoch 57/100\n",
            "4900/4900 [==============================] - 1s 124us/step - loss: 4.9825e-05 - val_loss: 3.2258e-05\n",
            "Epoch 58/100\n",
            "4900/4900 [==============================] - 1s 124us/step - loss: 4.9254e-05 - val_loss: 3.1612e-05\n",
            "Epoch 59/100\n",
            "4900/4900 [==============================] - 1s 126us/step - loss: 4.8961e-05 - val_loss: 3.1715e-05\n",
            "Epoch 60/100\n",
            "4900/4900 [==============================] - 1s 125us/step - loss: 4.8747e-05 - val_loss: 3.1480e-05\n",
            "Epoch 61/100\n",
            "4900/4900 [==============================] - 1s 125us/step - loss: 4.9170e-05 - val_loss: 3.1649e-05\n",
            "Epoch 62/100\n",
            "4900/4900 [==============================] - 1s 127us/step - loss: 4.8267e-05 - val_loss: 3.0657e-05\n",
            "Epoch 63/100\n",
            "4900/4900 [==============================] - 1s 126us/step - loss: 4.8310e-05 - val_loss: 3.0419e-05\n",
            "Epoch 64/100\n",
            "4900/4900 [==============================] - 1s 125us/step - loss: 4.8492e-05 - val_loss: 3.2285e-05\n",
            "Epoch 65/100\n",
            "4900/4900 [==============================] - 1s 126us/step - loss: 4.7687e-05 - val_loss: 2.9853e-05\n",
            "Epoch 66/100\n",
            "4900/4900 [==============================] - 1s 125us/step - loss: 4.7920e-05 - val_loss: 3.0059e-05\n",
            "Epoch 67/100\n",
            "4900/4900 [==============================] - 1s 124us/step - loss: 4.7619e-05 - val_loss: 2.9793e-05\n",
            "Epoch 68/100\n",
            "4900/4900 [==============================] - 1s 124us/step - loss: 4.7235e-05 - val_loss: 2.9799e-05\n",
            "Epoch 69/100\n",
            "4900/4900 [==============================] - 1s 126us/step - loss: 4.7648e-05 - val_loss: 2.9960e-05\n",
            "Epoch 70/100\n",
            "4900/4900 [==============================] - 1s 127us/step - loss: 4.7608e-05 - val_loss: 2.9785e-05\n",
            "Epoch 71/100\n",
            "4900/4900 [==============================] - 1s 126us/step - loss: 4.7419e-05 - val_loss: 2.9259e-05\n",
            "Epoch 72/100\n",
            "4900/4900 [==============================] - 1s 124us/step - loss: 4.6596e-05 - val_loss: 2.8991e-05\n",
            "Epoch 73/100\n",
            "4900/4900 [==============================] - 1s 123us/step - loss: 4.6796e-05 - val_loss: 2.9051e-05\n",
            "Epoch 74/100\n",
            "4900/4900 [==============================] - 1s 126us/step - loss: 4.6146e-05 - val_loss: 2.8771e-05\n",
            "Epoch 75/100\n",
            "4900/4900 [==============================] - 1s 125us/step - loss: 4.6650e-05 - val_loss: 2.8847e-05\n",
            "Epoch 76/100\n",
            "4900/4900 [==============================] - 1s 127us/step - loss: 4.6014e-05 - val_loss: 2.8855e-05\n",
            "Epoch 77/100\n",
            "4900/4900 [==============================] - 1s 125us/step - loss: 4.5912e-05 - val_loss: 2.7886e-05\n",
            "Epoch 78/100\n",
            "4900/4900 [==============================] - 1s 123us/step - loss: 4.6025e-05 - val_loss: 2.7837e-05\n",
            "Epoch 79/100\n",
            "4900/4900 [==============================] - 1s 126us/step - loss: 4.5310e-05 - val_loss: 2.7852e-05\n",
            "Epoch 80/100\n",
            "4900/4900 [==============================] - 1s 124us/step - loss: 4.5610e-05 - val_loss: 2.7005e-05\n",
            "Epoch 81/100\n",
            "4900/4900 [==============================] - 1s 126us/step - loss: 4.5623e-05 - val_loss: 2.7713e-05\n",
            "Epoch 82/100\n",
            "4900/4900 [==============================] - 1s 126us/step - loss: 4.5369e-05 - val_loss: 2.7745e-05\n",
            "Epoch 83/100\n",
            "4900/4900 [==============================] - 1s 124us/step - loss: 4.4955e-05 - val_loss: 2.6895e-05\n",
            "Epoch 84/100\n",
            "4900/4900 [==============================] - 1s 125us/step - loss: 4.5229e-05 - val_loss: 2.6946e-05\n",
            "Epoch 85/100\n",
            "4900/4900 [==============================] - 1s 126us/step - loss: 4.5243e-05 - val_loss: 2.6592e-05\n",
            "Epoch 86/100\n",
            "4900/4900 [==============================] - 1s 126us/step - loss: 4.4272e-05 - val_loss: 2.6258e-05\n",
            "Epoch 87/100\n",
            "4900/4900 [==============================] - 1s 125us/step - loss: 4.4702e-05 - val_loss: 2.6372e-05\n",
            "Epoch 88/100\n",
            "4900/4900 [==============================] - 1s 126us/step - loss: 4.4745e-05 - val_loss: 2.7755e-05\n",
            "Epoch 89/100\n",
            "4900/4900 [==============================] - 1s 127us/step - loss: 4.4821e-05 - val_loss: 2.6327e-05\n",
            "Epoch 90/100\n",
            "4900/4900 [==============================] - 1s 127us/step - loss: 4.4182e-05 - val_loss: 2.6259e-05\n",
            "Epoch 91/100\n",
            "4900/4900 [==============================] - 1s 126us/step - loss: 4.4969e-05 - val_loss: 2.6623e-05\n",
            "Epoch 92/100\n",
            "4900/4900 [==============================] - 1s 126us/step - loss: 4.4144e-05 - val_loss: 2.6541e-05\n",
            "Epoch 93/100\n",
            "4900/4900 [==============================] - 1s 126us/step - loss: 4.4255e-05 - val_loss: 2.5779e-05\n",
            "Epoch 94/100\n",
            "4900/4900 [==============================] - 1s 127us/step - loss: 4.4236e-05 - val_loss: 2.5584e-05\n",
            "Epoch 95/100\n",
            "4900/4900 [==============================] - 1s 125us/step - loss: 4.3868e-05 - val_loss: 2.6515e-05\n",
            "Epoch 96/100\n",
            "4900/4900 [==============================] - 1s 126us/step - loss: 4.4000e-05 - val_loss: 2.5746e-05\n",
            "Epoch 97/100\n",
            "4900/4900 [==============================] - 1s 126us/step - loss: 4.3497e-05 - val_loss: 2.6186e-05\n",
            "Epoch 98/100\n",
            "4900/4900 [==============================] - 1s 126us/step - loss: 4.4081e-05 - val_loss: 2.5133e-05\n",
            "Epoch 99/100\n",
            "4900/4900 [==============================] - 1s 126us/step - loss: 4.3592e-05 - val_loss: 2.5336e-05\n",
            "Epoch 100/100\n",
            "4900/4900 [==============================] - 1s 125us/step - loss: 4.3017e-05 - val_loss: 2.5567e-05\n",
            "Predicted data on training and test\n"
          ],
          "name": "stdout"
        }
      ]
    },
    {
      "cell_type": "markdown",
      "metadata": {
        "id": "x4bduPcs0ttm",
        "colab_type": "text"
      },
      "source": [
        "# Evaluating and usages basics:  \n",
        "  \n",
        "We have trained an autoencoder. Now lets go through some basic usecases and deduct what is the autoencoder doing! In each case we will also pint out what shoukd be the best non-toy model fo that task. \n",
        "(Can we guess now, what is the toy autoencoder doing?)  \n",
        "  \n",
        "Hints we could know from the architecture are:\n",
        "- Not every autoencoder is suitable for every task, so some of usecases can be misleading in our detective work\n",
        "- The autoencoder is the most basic one, so it would not do fancy stuff\n",
        "  - Analogy in the world of CNNs for images is, that only the deep layers do recognize objects or faces.\n",
        "- The given features are balanced to every character, they should not favor anything"
      ]
    },
    {
      "cell_type": "markdown",
      "metadata": {
        "id": "6DmUI-HX804K",
        "colab_type": "text"
      },
      "source": [
        "### Looking at how the autoencoder handles a sentence from the training set\n",
        "Real usecases can be data compression, pretraining layers for bigger model, machine translation, or just a test for ruling out bad architectures.  \n",
        "Also there is a class of denoising autoencoders which should not only reconstruct a sentence, but also to repair a modified sentence (reconstruct randomly altered input)\n",
        "*Best used: *"
      ]
    },
    {
      "cell_type": "code",
      "metadata": {
        "id": "0J9PrEbV809W",
        "colab_type": "code",
        "outputId": "07989bfe-e01e-4b50-a689-99e5348f982b",
        "colab": {
          "base_uri": "https://localhost:8080/",
          "height": 323
        }
      },
      "source": [
        "def simply_word_in_embedd_vocab(item, vocab_embedds):\n",
        "  \"\"\"\n",
        "  Lets use the vocabulary search to get just the word from the ()predicted) features.\n",
        "  \"\"\"\n",
        "  search_result = vocab_finder(item, vocab_embedds, key_f=lambda item: item[0],\n",
        "                               apply_on_item_too=False)\n",
        "  # search_result = ((ith position, the vocabulary item), score)\n",
        "  # the vocabulary item is (embedd_f(word), word)\n",
        "  \n",
        "  return search_result[0][1][1]\n",
        " \n",
        "\n",
        "def compare_reconstructed(batch,\n",
        "                          autoencoder=autoencoder,\n",
        "                          emb2text=lambda emb: simply_word_in_embedd_vocab(emb, vocab_embedds),\n",
        "                          verbose=True\n",
        "                         ):\n",
        "    \"\"\"\n",
        "    This function would compare the original sentence to:\n",
        "    - a sentence reconstructed without the autoencoder, just from word features and vocabulary\n",
        "    - a sentence reconstructed using the autoencoder\n",
        "\n",
        "    Also we can measure the MSE of the original and the reconstructed\n",
        "    (without using the vocabulary to separate the effects).\n",
        "    \"\"\"\n",
        "    prediction = autoencoder.predict_on_batch(batch)\n",
        "    \n",
        "    ret = []\n",
        "    \n",
        "    for pred_item, batch_item in zip(prediction, batch):\n",
        "        word_by_word  = batch_item #np.reshape(batch_item, (-1, train_data.shape[-1]))\n",
        "        orig = u\" \".join([emb2text(word) for word in word_by_word])\n",
        "               \n",
        "        pred_by_word  = pred_item #np.reshape(pred_item, (-1, train_data.shape[-1]))\n",
        "        pred = u\" \".join([emb2text(word) for word in pred_by_word])\n",
        "    \n",
        "        mse = np.mean(np.square(word_by_word - pred_by_word))\n",
        "        if verbose:\n",
        "          print(u\"\\n \\n --Original sentence reconstructed just from vocabulary: \\n\"\n",
        "          \"{}\\n\"\n",
        "          \"--Predicted sentence reconstructed by autoencoder AND vocabulary: \\n\"\n",
        "          \"{}\\n\"\n",
        "          \"--mse: {}; ({})\\n\".format(orig, pred, mse,\n",
        "                                  u\"(different)\" if orig != pred else u\"same\"))\n",
        "        ret.append((orig, pred, mse))\n",
        "    return ret\n",
        "\n",
        "\n",
        "print(\"2 things from training set:\")\n",
        "compare_reconstructed(train_data[0:2, :20])\n",
        "print(\" ... seems pretty OK\")"
      ],
      "execution_count": 0,
      "outputs": [
        {
          "output_type": "stream",
          "text": [
            "2 things from training set:\n",
            "\n",
            " \n",
            " --Original sentence reconstructed just from vocabulary: \n",
            "the basic plot in this movie sin ! t bad ! a lady makes it big and comes back to\n",
            "--Predicted sentence reconstructed by autoencoder AND vocabulary: \n",
            "the basic plot in this movie sin ! t bad ! a lady makes it big and comes back to\n",
            "--mse: 1.0575998203421477e-05; (same)\n",
            "\n",
            "\n",
            " \n",
            " --Original sentence reconstructed just from vocabulary: \n",
            "i found this film embarrassing to watch ! i felt like it was shoving the storyline down my throat as\n",
            "--Predicted sentence reconstructed by autoencoder AND vocabulary: \n",
            "i found this film researching to watch ! i felt like it was shoving the storyline down my throat as\n",
            "--mse: 1.6458803656860255e-05; ((different))\n",
            "\n",
            " ... seems pretty OK\n"
          ],
          "name": "stdout"
        }
      ]
    },
    {
      "cell_type": "markdown",
      "metadata": {
        "id": "EfAnw2Qz1oEV",
        "colab_type": "text"
      },
      "source": [
        "### Generating random sentence with the model:\n",
        "Given random inner representation, it should produce a random sentence.  \n",
        "Usefull also for randomly altering a sentence.  \n",
        "\n",
        "*Best used: for non-toy example, more suitable autoencoder architecture should be the VAE (Variational autoencoder), possibly with embeddings.*"
      ]
    },
    {
      "cell_type": "code",
      "metadata": {
        "id": "1pA0Qu2ZLUM3",
        "colab_type": "code",
        "outputId": "1803b933-0aed-4344-96b4-f4a0ebf319c8",
        "colab": {
          "base_uri": "https://localhost:8080/",
          "height": 102
        }
      },
      "source": [
        "def generate_from_inner(batch,\n",
        "                          decoder=decoder,\n",
        "                          emb2text=lambda emb: simply_word_in_embedd_vocab(emb, vocab_embedds),\n",
        "                          verbose=True\n",
        "                         ):\n",
        "    \"\"\"\n",
        "    Given a batch, produces a text, regarding the batch as batch of inner representation features.\n",
        "    \"\"\"\n",
        "    prediction = decoder.predict_on_batch(batch)\n",
        "    ret = []\n",
        "    for pred_item in prediction:\n",
        "        pred_by_word = pred_item # np.reshape(batch_item, (-1, train_data.shape[-1]))\n",
        "        pred = u\" \".join([emb2text(word) for word in pred_by_word])\n",
        "               \n",
        "        ret.append(pred)\n",
        "    return ret\n",
        "\n",
        "print(\"Inspecting random inner representation as sentence:\") \n",
        "print(\"\")\n",
        "zero_input_inner = np.random.rand(*tuple([dim.value if dim.value is not None else 1 for dim in decoder.inputs[0].shape]))\n",
        "print(generate_from_inner(zero_input_inner))\n",
        "print(\"\")\n",
        "print(\"... seems that the autoencoder did not grasp sentence meanings and does not use most common words\")"
      ],
      "execution_count": 0,
      "outputs": [
        {
          "output_type": "stream",
          "text": [
            "Inspecting random inner representation as sentence:\n",
            "\n",
            "['chick-flick civilized 81 underdeveloped 61 n greengrass full vs n aftermath besides 53 flee 29 10 13 p masochistic scumbags']\n",
            "\n",
            "... seems that the autoencoder did not grasp sentence meanings and does not use most common words\n"
          ],
          "name": "stdout"
        }
      ]
    },
    {
      "cell_type": "markdown",
      "metadata": {
        "id": "n5fd_V_C9icU",
        "colab_type": "text"
      },
      "source": [
        "### Inspecting a custom sentence:"
      ]
    },
    {
      "cell_type": "markdown",
      "metadata": {
        "id": "lANSADhf9OgF",
        "colab_type": "text"
      },
      "source": [
        "Real world usage would include finding a close sentence in inner representation.  \n",
        "\n",
        "*Best used: In fact it does not need an autoencoder, inner representation can be also taken as the last layer in any trained model - then the closest sentence would be a sentence with closer target values.*"
      ]
    },
    {
      "cell_type": "code",
      "metadata": {
        "id": "n-fPXXYZ1mfY",
        "colab_type": "code",
        "outputId": "7789b766-cafe-404a-bfff-26b6ad759c79",
        "colab": {
          "base_uri": "https://localhost:8080/",
          "height": 272
        }
      },
      "source": [
        "def sentence_into_batch(sentence,\n",
        "                        window_size=20,\n",
        "                        train_data_shape=train_data.shape,\n",
        "                        tokenize_f=text_tokens,\n",
        "                        embedd_f=features_from_text):\n",
        "  \"\"\"\n",
        "  Given a custom sentence, proceses it into a batch to be fed into the model.\n",
        "  \"\"\"\n",
        "  if tokenize_f is None:\n",
        "    tokenize_f = lambda x: x\n",
        "  \n",
        "  custom_b = np.zeros((1, window_size, train_data_shape[-1]))\n",
        "  for i, word in enumerate(tokenize_f(sentence)):\n",
        "      if i >= window_size:\n",
        "          break\n",
        "      custom_b[0, i, :] = embedd_f(word)\n",
        "  return custom_b \n",
        "\n",
        "\n",
        "def inspect_custom_sentence(custom_sentence,\n",
        "                            autoencoder=autoencoder,                            \n",
        "                            encoder=encoder,                            \n",
        "                            embedd_f=features_from_text,\n",
        "                            window_size=20,\n",
        "                            tokenize_f=text_tokens,\n",
        "                            train_data_shape=train_data.shape,\n",
        "                            find_closest_representatios=x_train_pred,\n",
        "                            original_sentences=X_train_orig):\n",
        "    \"\"\"\n",
        "    Given a custom sentence, inspects using compare_reconstructed function and\n",
        "    also tries to find the closest sentence in the training set.\n",
        "    \"\"\"\n",
        "  \n",
        "    custom_b = sentence_into_batch(custom_sentence,\n",
        "                                    window_size,\n",
        "                                    train_data_shape,\n",
        "                                    tokenize_f,\n",
        "                                    embedd_f)\n",
        "\n",
        "    print(\"Reconstructed custom sentence (only using vocabulary): \")\n",
        "    compare_reconstructed(custom_b, autoencoder)  # todo some our words might not be in vocabulary\n",
        "\n",
        "    print(\"Most similar sentence in trained encoder's representation: \")\n",
        "    similar_sentence = vocab_finder(encoder.predict_on_batch(custom_b)[0],\n",
        "                                    find_closest_representatios,\n",
        "                                    None)[0][0]\n",
        "    print(u\" \".join(original_sentences[similar_sentence][0:window_size]))\n",
        "    \n",
        "\n",
        "print(\"Inspecting custom sentence\")  \n",
        "print(\"\")\n",
        "inspect_custom_sentence(u\"This SF film really captured me, \"\n",
        "                        \"I have enjoyed the starships flying \"\n",
        "                        \"and people jumping all around space\")\n",
        "print(\"\")\n",
        "print(\" ... ok, works on non training dataset sentence, but the inner representation does not seem to convey any close meaning\")"
      ],
      "execution_count": 0,
      "outputs": [
        {
          "output_type": "stream",
          "text": [
            "Inspecting custom sentence\n",
            "\n",
            "Reconstructed custom sentence (only using vocabulary): \n",
            "\n",
            " \n",
            " --Original sentence reconstructed just from vocabulary: \n",
            "this s film really captured me ! i have enjoyed the starship flying and people jumping all around space !\n",
            "--Predicted sentence reconstructed by autoencoder AND vocabulary: \n",
            "this sf film really capture me ! i have enjoyed the starship flying and people jumping all around space a\n",
            "--mse: 2.6760561871722076e-05; ((different))\n",
            "\n",
            "Most similar sentence in trained encoder's representation: \n",
            "This had a great cast with big - name stars like Tyrone Power , Henry Fonda , Randolph Scott ,\n",
            "\n",
            " ... ok, works on non training dataset sentence, but the inner representation does not seem to convey any close meaning\n"
          ],
          "name": "stdout"
        }
      ]
    },
    {
      "cell_type": "markdown",
      "metadata": {
        "id": "leQDUy7s1tgy",
        "colab_type": "text"
      },
      "source": [
        "### Anomaly detection \n",
        "Lets reconstruct each sentence using the autoencoder and select the most different reconstruction as anomaly.  \n",
        "I have employed some sentences from the training data and some based on my own hypothesis to verify it.\n",
        "![anomaly detection](https://www.spiedigitallibrary.org/ContentImages/Proceedings/10630/1063006/FigureImages/00004_PSISDG10630_1063006_page_4_1.jpg)  \n",
        "(Image source: https://www.spiedigitallibrary.org/conference-proceedings-of-spie/10630/1063006/Deep-learning-based-classification-and-anomaly-detection-of-side-channel/10.1117/12.2311329.short)\n",
        "  \n",
        "Autoencoders are sometimes used to fulfill this role of anomaly detection in financial markets; for that purpose they are retrained often (each 5 minutes).\n"
      ]
    },
    {
      "cell_type": "code",
      "metadata": {
        "id": "2KZBL7Dv1jji",
        "colab_type": "code",
        "outputId": "000edb7d-6a83-4586-f00f-2aa51c065060",
        "colab": {
          "base_uri": "https://localhost:8080/",
          "height": 224
        }
      },
      "source": [
        "print(\"Inspecting anomalies: (bigger number means bigger anomaly) \\n \"\n",
        "      \"Last 5 sentences are form the training set, first 3 are custom \\n\") \n",
        "\n",
        "custom_anomaly_test = [\n",
        "u\"A wise Klingon once said: hjtcuyf fkudkuyfliug htdjiugh yffkjgkj wsdihga apfgihag agafg iha ah jasth qt FGRIH G.\",\n",
        "u\"2018 was my 2. most enjoyable year with films. All 10 films I saw did really count.\",\n",
        "u\"Aaaaargh! Autoencoders should not be screaaaaming! Aaaaand I think It does it because I waaaant to confuse it!\",\n",
        "u\"the movie seems disjointed and overall , poorly written . the screenplay moves along as if 10 different people wrote it , and none of them were communicating with each other.\",\n",
        "u\"dennis hopper is without a doubt one of the finest underrated american actors of our time , and it was interesting to see how he would play out his role as a cop on the case of a child serial killer\",\n",
        "u\"this movie should not be viewed unless you are trying to kill yourself . i think this movie could actually cause severe brain damage . the main characters are the whiny non - hero kevin , amy.\",\n",
        "u\"this film reminds me of how college students used to protest against the vietnam war . as if , upon hearing some kids were doing without cheeseburgers in cow dung collehe , the president was.\",\n",
        "u\"to compare this squalor with an old , low budget flick would be an insult to the old , low budget flick . the animal scenes have no meaning nor do they represent this man and his crimes.\",\n",
        "]\n",
        "\n",
        "anomaly_results = [compare_reconstructed(sentence_into_batch(anomaly),\n",
        "                                        verbose=False)[0] \n",
        "                   for anomaly in custom_anomaly_test]\n",
        "\n",
        "for i, ano_res in enumerate(anomaly_results):\n",
        "  print((\"%.7f\" % ano_res[-1]) + \": \" + custom_anomaly_test[i])"
      ],
      "execution_count": 0,
      "outputs": [
        {
          "output_type": "stream",
          "text": [
            "Inspecting anomalies: (bigger number means bigger anomaly) \n",
            " Last 5 sentences are form the training set, first 3 are custom \n",
            "\n",
            "0.0000636: A wise Klingon once said: hjtcuyf fkudkuyfliug htdjiugh yffkjgkj wsdihga apfgihag agafg iha ah jasth qt FGRIH G.\n",
            "0.0000683: 2018 was my 2. most enjoyable year with films. All 10 films I saw did really count.\n",
            "0.0000394: Aaaaargh! Autoencoders should not be screaaaaming! Aaaaand I think It does it because I waaaant to confuse it!\n",
            "0.0000324: the movie seems disjointed and overall , poorly written . the screenplay moves along as if 10 different people wrote it , and none of them were communicating with each other.\n",
            "0.0000194: dennis hopper is without a doubt one of the finest underrated american actors of our time , and it was interesting to see how he would play out his role as a cop on the case of a child serial killer\n",
            "0.0000157: this movie should not be viewed unless you are trying to kill yourself . i think this movie could actually cause severe brain damage . the main characters are the whiny non - hero kevin , amy.\n",
            "0.0000199: this film reminds me of how college students used to protest against the vietnam war . as if , upon hearing some kids were doing without cheeseburgers in cow dung collehe , the president was.\n",
            "0.0000169: to compare this squalor with an old , low budget flick would be an insult to the old , low budget flick . the animal scenes have no meaning nor do they represent this man and his crimes.\n"
          ],
          "name": "stdout"
        }
      ]
    },
    {
      "cell_type": "markdown",
      "metadata": {
        "id": "Mcr6KhwD1F2w",
        "colab_type": "text"
      },
      "source": [
        "### Evaluating with clustering:\n",
        "- See how a clustering algorithm is able to treat our data, is it able to find any clusters?\n",
        "- How do we evaluate clusters? Lets just look at some sentences from a noncommon cluster, if they have the same theme"
      ]
    },
    {
      "cell_type": "code",
      "metadata": {
        "id": "ofH-Q2G6wN9V",
        "colab_type": "code",
        "outputId": "6738878e-2a2c-40bd-f674-6596b3f1de5c",
        "colab": {
          "base_uri": "https://localhost:8080/",
          "height": 51
        }
      },
      "source": [
        "# https://scikit-learn.org/stable/modules/generated/sklearn.cluster.Birch.html\n",
        "def compute_clusters(features, threshold=0.9):\n",
        "    print('Computing clusters... from {} datapoints'.format(features.shape[0]))\n",
        "    # `n_clusters=None` means variable number of clusters\n",
        "    # we control clustering by the threshold\n",
        "    cluster_algo = Birch(n_clusters=None, threshold=threshold)\n",
        "    # predicted cluster labels (typically integers from 0)\n",
        "    clusters = cluster_algo.fit_predict(features)\n",
        "    cluster_count = len(set(clusters))\n",
        "    print('Cluster count:', cluster_count)\n",
        "    return clusters\n",
        "\n",
        "ret_clust = compute_clusters(x_train_pred)"
      ],
      "execution_count": 0,
      "outputs": [
        {
          "output_type": "stream",
          "text": [
            "Computing clusters... from 4900 datapoints\n",
            "Cluster count: 47\n"
          ],
          "name": "stdout"
        }
      ]
    },
    {
      "cell_type": "code",
      "metadata": {
        "id": "pLKlgdNdwSUn",
        "colab_type": "code",
        "outputId": "ba944d3b-f02d-4d31-a33f-91aca2249d5b",
        "colab": {
          "base_uri": "https://localhost:8080/",
          "height": 530
        }
      },
      "source": [
        "def print_cluster_example(cluster_i=0, n_examples=10):\n",
        "  ids = [i for i, clust in enumerate(ret_clust) if clust == cluster_i]\n",
        "  ids = ids[:n_examples]\n",
        "  print(ids)\n",
        "  for oid in ids:\n",
        "      print(u\"\")\n",
        "      print(u\"id {}\".format(oid))\n",
        "      print(u\" \".join(X_train_orig[oid]))\n",
        "      \n",
        "def find_less_count_clusters():\n",
        "  from collections import Counter\n",
        "  rets = Counter(ret_clust)\n",
        "  for key in rets.keys():\n",
        "    if rets[key] <= 10 and rets[key] >= 3:\n",
        "      return key\n",
        "  \n",
        "print(\"Inspecting some small cluster:\")\n",
        "print(\"\")\n",
        "print_cluster_example(cluster_i=find_less_count_clusters(), n_examples=10)\n",
        "print(\"\")\n",
        "print(\"Ok notice the numbers and their positions in the sentence!\")"
      ],
      "execution_count": 0,
      "outputs": [
        {
          "output_type": "stream",
          "text": [
            "Inspecting some small cluster:\n",
            "\n",
            "[131, 535, 805, 900, 1088, 3260, 3262, 4497]\n",
            "\n",
            "id 131\n",
            "The only previous Gordon film I had watched was the kiddie adventure THE MAGIC SWORD ( 1962 ), though I followed this soon after with EMPIRE OF THE ANTS ( 1977 ); he seems to be best remembered , however , for his sci - fi work of the 1950s . Anyway , I happened upon this one in a DVD rental shop : hadn ' t I noticed Orson Welles ' unmistakable figure on the sleeve , I probably wouldn ' t even have bothered with it – since I know the film under its original title , NECROMANCY ! I ' d seen a still from it on an old horror tome of my father ' s : the actor ' s presence in a film about diabolism seemed like a great idea which couldn ' t possibly miss , but the end result – particularly in this bastardized edition – is a disaster ! I honestly felt sorry for Welles who looks bored and , rather than in his deep and commanding voice , he mutters the inane demonic invocations almost in whispers !! The plot is , basically , yet another retread of ROSEMARY ' S BABY ( 1968 ): a couple is invited to a remote community under false pretenses and soon discover themselves to be surrounded by diabolists . The girl , played by Pamela Franklin , ostensibly has supernatural powers ( passed on from her mother , who appears intermittently throughout to warn her – though , as delivered in an intense manner through clenched teeth , the latter ' s speeches end up being largely incoherent and the fount of immense hilarity every time she appears !) and is expected to revive Welles ' deceased young son from the dead !! For what it ' s worth , Franklin – a genre regular , right down from her debut performance in THE INNOCENTS ( 1961 )– isn ' t bad in her role ( which requires some nudity and experiences several semi - eerie hallucinations during the course of the film ); hubby Michael Ontkean , however , isn ' t up to the challenge of his John Cassavetes - like character . Some of the other girls look good as well – notably Lee Purcell , whose belated decision to help Franklin in escaping from town eventually proves her undoing . Events come to a head in an incredibly muddled climax , which sees the Satanists ultimately turning on Franklin and have her take the revived boy ' s place in the coffin ( that ' s gratitude for you !). While the added scenes do stick out ( the hilarious opening ceremony and other would - be erotic embellishments ), the overall quality of the film would have still been poor without them ; then again , this particular version is further sunk by the tacked - on electronic score – which is wholly inappropriate , and cheesy in the extreme !\n",
            "\n",
            "id 535\n",
            "I have no idea what idiots gave this movie a Palm D ' Or at the 1999 Cannes Film Festival because it was atrocious ! I actually watched the entire thing simply because I couldn ' t believe that someone would make such a worthless film . There is nothing interesting about the plot , the characters are devoid of depth and there is no attempt at giving any sort of ambiance with music or sound effects . Also , if you do decide to waste 2 hours of your life by watching this film , be sure to bring something to throw up in because the cinematography is simply someone running around with a hand - held camcorder and half the time you can ' t even see the main subjects . This style has been used much more successfully in movies such as \" Blair Witch \" because it creates suspense . In Rosetta , there is no plot and no suspense to which that style would lend anything . I should have known better when it came on at 2 o ' clock in the morning that it was going to be horrible .\n",
            "\n",
            "id 805\n",
            "I had high hopes for it when I heard that it was being made back in 2001 because I read \" The Devil and Daniel Webster \" when I was a kid and I found it very interesting . They made some changes to the story that don ' t make much sense to me . Daniel Webster in the story was a famous lawyer from New Hampshire in the story . In the movie he is an editor . A lawyer makes more sense since he ends up representing Jabez Stone against the devil him / herself ( he was a man in the story , but was a woman in the movie ) in a trial where both of their souls are on the line . As an editor , it doesn ' t seem likely that Daniel Webster would have the skill to do this . The acting was decent by all except for Alec Baldwin and Dan Aykroyd . These are two actors that I like , they just did an awful job in this movie . It was as though they thought they were acting in a comedy , but the movie was more a serious one than a comedy . This might be partly due to the fact that the movie was filmed with a particular vision in mind , and was then re - edited by somebody else . Given this fact , it ' s surprising that it was at all coherent . I was surprised to see a fair amount of SNL cast members in the movie , which further leads me to believe it may have originally been filmed with the intention of it being more of a comedy . All in all I would have to say it wasn ' t completely awful , but it wasn ' t much good . If I could get the hour and a half back and do something else with it , I would . The ending was especially disappointing . As in the original story , Daniel Webster defeats the devil in the trial . Jabez then starts out again at the beginning of the movie ... literally , we are just brought back to the first scene with Jabez , and then the movie abruptly ends . It actually looked as though they just replayed Jabez ' first scene over and called it the end . There is no indication that Jabez has the benefit of any of the knowledge or experience he gained , so who is to say he didn ' t just repeat his mistakes over again , and perhaps over and over in an endless loop ? It was an extremely disappointing end and did not make a lot of sense . The decent cast , and the acting of everyone except for Baldwin and Aykroyd are the only things that keep this from being a complete and total crap sandwich .\n",
            "\n",
            "id 900\n",
            "I sincerely consider this movie as another poor effort of Dominican Movie Industry . The first 30 minutes of the movie are a little funny but then when they switch their role in the society ( men doing what women usually do and women doing what men usually do ) the movie falls . Becoming boring and not funny at all . They let many things without explanation and the end of the movie is predictable . I didn ' t like the way as a Roberto Angel played his character and his little either . I went to the movies theater hoping to see a good work but I went out really disappointed . I don ' t recommend this movie .\n",
            "\n",
            "id 1088\n",
            " Whether any indictment was intended must be taken into consideration . If in the year 2000 there were still rifts of feeling between Caucasian and Afro - Americans in Georgia , such as shown in this film , obviously there remains a somewhat backward mentality among a lot of people out there . It is rather hypocritical , to say the least , if everyone adores Halle Berry , Whoopie Goldberg , Beyoncé , Noemi Campbell , Denzel Washington , Will Smith , et . al ., whilst out in the backs there persist manifest racial divides . White grandmother suddenly gets black grand - daughter thrust upon her , only to meet up with black grandfather in a very white social backwater . The story is sweet , not lacking tragic overtones , and eminently predictable as in most of these kinds of TV films , though the final scene has you guessing ............ will he ? won ' t he .......? Gena Rowlands in her typical style offers a sincere rendering , and Louis Gossett is a good match for her ; the little Penny Bae fortunately does not steal the show . A ` nice ' way of relaxing after Sunday lunch without having to force your mind too much , though you might just find yourself having a little siesta in the middle of it .\n",
            "\n",
            "id 3260\n",
            "If I had known this movie was filmed in the exasperating and quease - inducing Dogme 95 style , I would never have rented it . Nevertheless , I took a dramamine for the seasickness and gave it a shot . I lasted a very , very , very long forty minutes before giving up . It ' s just boring , pretentious twaddle . The last French movie I saw was \" Romance \" and it too was pretty dismal , but at least the camera was steady and not breathing down the necks of the characters all the time . I am baffled at the continuing popularity of Dogme 95 overseas -- it ' ll catch on in America about the same time as the next big outbreak of leprosy .( It ' s called Dogme 95 because that ' s the average number of times the actors are poked in the eye by the camera .)\n",
            "\n",
            "id 3262\n",
            "Never cast models and Playboy bunnies in your films ! Bob Fosse ' s \" Star 80 \" about Dorothy Stratten , of whom Bogdanovich was obsessed enough to have married her SISTER after her murder at the hands of her low - life husband , is a zillion times more interesting than Dorothy herself on the silver screen . Patty Hansen is no actress either .. I expected to see some sort of lost masterpiece a la Orson Welles but instead got Audrey Hepburn cavorting in jeans and a god - awful \" poodlesque \" hair - do .... Very disappointing ....\" Paper Moon \" and \" The Last Picture Show \" I could watch again and again . This clunker I could barely sit through once . This movie was reputedly not released because of the brouhaha surrounding Ms . Stratten ' s tawdry death ; I think the real reason was because it was so bad !\n",
            "\n",
            "id 4497\n",
            "The only reason i am bothering to comment on this movie is to save you all 97 minutes of your life and maybe your money . I bought it ex - rental for £ 3 . 00 , it looked interesting , so i took a chance . Within minutes of turning it on i realised i ' d made a mistake . The entire cast should be stored away until winter and then thrown on the nearest log fire , where they could meet more of their kind . As for the Devin Hamilton ( Writer and Director ), he should just be shot , sadly this should have been done before he made this rubbish . Avoid this film , If you see it in the shops run away . 1 / 10\n",
            "\n",
            "Ok notice the numbers and their positions in the sentence!\n"
          ],
          "name": "stdout"
        }
      ]
    },
    {
      "cell_type": "code",
      "metadata": {
        "id": "ZR25TkjWAWWq",
        "colab_type": "code",
        "outputId": "6a8e0e95-4a43-4d00-b0e5-9efb5dc8282f",
        "colab": {
          "base_uri": "https://localhost:8080/",
          "height": 384
        }
      },
      "source": [
        "print(\"How are the clusters looking? Lets just inspect them with TSNE for visualization: \")\n",
        "Y = tsne(np.float64(x_train_pred[0:5000]))\n",
        "plt.scatter(Y[:, 0], Y[:, 1])\n",
        "plt.show()\n",
        "\"\"\"\n",
        "If we have used a variational autoencoder, it coud make sense to display just the inner representation:\n",
        "print(\"Here we will take the first two coordinates from the inner representation and display it\"\n",
        "      \"(useful when using variational autoencoder or autoencoder with just 2 units)\")\n",
        "plt.scatter(x_train_pred[:, 0], x_train_pred[:, 1])\n",
        "plt.show()\n",
        "\"\"\"\n",
        "print(\"\")"
      ],
      "execution_count": 0,
      "outputs": [
        {
          "output_type": "stream",
          "text": [
            "How are the clusters looking? Lets just inspect them with TSNE for visualization: \n"
          ],
          "name": "stdout"
        },
        {
          "output_type": "display_data",
          "data": {
            "image/png": "[encoded data removed]",
            "text/plain": [
              "<Figure size 576x396 with 1 Axes>"
            ]
          },
          "metadata": {
            "tags": []
          }
        },
        {
          "output_type": "stream",
          "text": [
            "\n"
          ],
          "name": "stdout"
        }
      ]
    },
    {
      "cell_type": "code",
      "metadata": {
        "id": "UZ0b9z2GLUtJ",
        "colab_type": "code",
        "outputId": "ea671bf9-71b3-4715-e2a7-32d8ce735047",
        "colab": {
          "base_uri": "https://localhost:8080/",
          "height": 156
        }
      },
      "source": [
        "print(\"Idea: We could inspect the small clusters in the TSNE representation: \\n\")\n",
        "point_inspect = [30, -20]  # input your own point\n",
        "\n",
        "dists = [(i, (point_inspect[0]-item[0])*(point_inspect[0]-item[0]) +\n",
        "          (point_inspect[1]-item[1])*(point_inspect[1]-item[1])) \n",
        "         for i, item in enumerate(Y)]\n",
        "dists.sort(key=lambda item: item[1])\n",
        "[\" \".join(X_train_orig[item[0]]) for item in dists[0:5]]"
      ],
      "execution_count": 0,
      "outputs": [
        {
          "output_type": "stream",
          "text": [
            "Idea: We could inspect the small clusters in the TSNE representation: \n",
            "\n"
          ],
          "name": "stdout"
        },
        {
          "output_type": "execute_result",
          "data": {
            "text/plain": [
              "[\" According to reviewers , the year is 1955 and the players are 20 year - old college kids about to enter grad school . Jolly joke ! 1955 ? The synthesizer keyboard was not invented yet , but there it is on the bandstand . The Ford Pony Car was not invented yet , but there it is playing oldies music . The synthesizer appeared to be a model from the mid 1970 ' s . The Pony Car at best is from the mid 1960 ' s . 20 year - old college kids ? Josh Brolin had seen 32 birthdays when this made - for - TV movie was produced . The plot is so predictable that viewers have plenty of spare time to think of all the errors appearing upon their TV ' s .\",\n",
              " 'I personally liked \" The Prophecy \" of 1995 a lot . Christopher Walken was , as always , great , and even though the film wasn \\' t flawless , it was a creepy and highly original Horror / Fantasy film that entertained immensely . This inferior 1998 sequel is still worth watching , but mainly due to Walken . Walken is one of the greatest actors around , in my opinion , and he is once again outstanding in the role of the fallen Archangel Gabriel , whom he plays for the second time here . Once again , the war between fallen and loyal Angels is brought to earth . Gabriel returns in order to prevent the birth of a child , namely the child of the angel Danyael ( Russel Wong ) and the human woman Valerie ( Jennifer Beals ). This child could once be the determining factor of the celestial war ... As I said above , Christopher Walken is once again excellent as Gabriel . Besides Gabriel , however ,\" The Prophecy II \" sadly also includes a bunch of terribly annoying characters . The character of Valerie was annoying enough , and Danayel annoyed me even more . The biggest pain in the ass , however was the character of Izzy ( played by Brittany Murphy ), a suicidal girl who wouldn \\' t shut up . Still , Walken \\' s performance isn \\' t the only redeeming quality of the film . The entire film is quite dreary , and well - shot in dark colors , which contributes a lot to the atmosphere . Gabriel \\' s resurrection scene in the beginning is furthermore quite impressive , and one of the coolest moments in any of the \" Prophecy \" films .\" The Prophecy II \" is nevertheless the weakest of the three \" Prophecy \" films with Walken . Definitely a Christopher Walken one - man - show , entertaining , but nothing beyond that .',\n",
              " 'GUERNSEY ( Maria Kraakman - Belgium / Netherlands 2005 ). The mousy Maria Kraakman plays Anna , a woman in her thirties , who finds out her husband ( Fedja van Huet ) is cheating on her but she doesn \\' t dare to confront him . She painfully avoids any confrontation with human beings , her parents as well as her sister , so we have a main character in a feature film that doesn \\' t do much at all . We barely know anything about her background or her motivations . Just a woman who seems to be stuck in a blind alley , not just during this difficult episode of her life . She obviously suffers from something , but why do we in the audience have to suffer as well ? I almost gave up on cinema after seeing this unwatchable mess . These were a very dull and painful 90 minutes . Normally I try to avoid wasting energy on bad film making . I \\' ll take the beating and roll with the punches , but in this case a fair warning is in place . How on earth did Nanouk Leopold get funding ( in large part from publicly financed funds ) for this turkey ? Obviously , there was no script to speak off . It could be compensated by an ingenious filmmaker with cinematographic ideas or a cast with only a little more appeal . None whatsoever , just a vaguely defined concept ,\" I want to do something from a woman \\' s point of view \". The result is an insult rather than a tribute to a female perspective on life . To make things worse , there \\' s not an interesting shot to be found in the entire film . I cannot think of a cast who could have spiced this one up , but Johanna ter Steege is a ( small ) light in the dark , if possible with this dire lack of material . I \\' m trying to imagine how Leopold tried directing Maria Kraakman :\" Maria , look at the horizon , we \\' ll film you for three minutes , just express sadness \". A perfect cure for insomnia . Get a copy and watch this late at night , guaranteed too put you to sleep . Camera Obscura --- 1 / 10',\n",
              " \"It ' s hard to believe that in 1997 David Duchovny was at the top of his fame , with X - Files , one of the best sci - fi series ever , being at the top of the glory . Nine years later he is almost forgotten , and his tentatives to make it on the big screen failed miserably . I cannot even explain why , he is a fair actor , but probably his moment of fame cast him in a eternal role that takes big talent to break from . At the same time Angelina Jolie was much less known , and she was really lucky that a film like ' Playing God ' did not led her career into a dead - end . Fortunately for her ,' The Bone Collector ' and ' Girl , Interrupted ' were waiting beyond the corner , and when Lara Croft came , her career was launched . There is not too much to be told about this film . It ' s the only big screen film of Andy Wilson , and there must be a reason . All is banal and most of what happens on the screen expected in this story of an ex - doctor who saves the life of a shooting victim in a bar only to find himself working for the mob . The off - screen voice is especially bad , with a moralistic text that kills any shade of cinematographic experience from the film . You probably will not meet the film but in DVD rental stores , or on TV . Try to look for something better .\",\n",
              " '\" Laugh , Clown Laugh \" released in 1928 , stars the legendary Lon Chaney as a circus clown named Tito . Tito has raised a foundling ( a young and beautiful Loretta Young ) to adulthood and names her Simonetta . Tito has raised the girl in the circus life , and she has become an accomplished ballerina . While Chaney gives his usual great performance , I could not get past the fact that Tito , now well into middle age , has the hots for the young Simonetta . Although he is not her biological father , he has raised her like a daughter . That kind of \" ick \" factor permeates throughout the film . Tito competes for Simonetta \\' s affections with a young and handsome \\' Count \\' Luigi ( Nils Asther ). Simonetta clearly falls for the young man , but feels guilt about abandoning Tito ( out of loyalty , not romantic love ). The whole premise of the film is ridiculous , and I find it amazing that no one in the film tells Tito what a stupid old fool he is being ( until he reveals it himself at the end ). The film is noteworthy only because of Loretta Young , who would go on to have a great career . While I adore Chaney \\' s brilliance as an actor , this whole film seems off to me and just downright creepy .']"
            ]
          },
          "metadata": {
            "tags": []
          },
          "execution_count": 30
        }
      ]
    },
    {
      "cell_type": "markdown",
      "metadata": {
        "id": "bTXoWIVavvhI",
        "colab_type": "text"
      },
      "source": [
        "## Conclusion and more ideas for experiments:\n",
        "- Spoiler: **Even though the textual features use numbers, the autoencoder found them to not be so much frequent and decided they are the biggest anomalies.**\n",
        "- Real life purpose of this autoencoder could then be: **To find a text, that has unusual distribution of characters.**\n",
        "  - Could be upgraded to ignore numbers altogether, then it would process only text and find the outliers.\n",
        "  - *Remember, this is just an example with easiest autoencoder architecture. For real life applications, different architectures and embeddings/ character models should be used. Also it is possible to use a trained model and inner representation can be its last layer.*\n",
        "  \n",
        "Ways to experiment with the code:\n",
        "- The code can be tried out with embeddings\n",
        "- Character level architectures can be used\n",
        "- Varying the parameters can lead the model to perform differently\n",
        "- Or empolying different model \n"
      ]
    },
    {
      "cell_type": "markdown",
      "metadata": {
        "id": "25E4cqlx_UR5",
        "colab_type": "text"
      },
      "source": [
        "### When we know the purpose of the autoencoder, we can search the training set:"
      ]
    },
    {
      "cell_type": "code",
      "metadata": {
        "id": "UaSo9c8p91My",
        "colab_type": "code",
        "outputId": "91e74ca8-eb73-45db-e869-f712e9706475",
        "colab": {
          "base_uri": "https://localhost:8080/",
          "height": 510
        }
      },
      "source": [
        "print(\"Give me sentence with this distribution of o's\")\n",
        "print(\"\")\n",
        "inspect_custom_sentence(u\"Noooooooo! I use a looooot of Ooooooos!\")\n",
        "print(\"\")\n",
        "print(\"\")\n",
        "print(\"\")\n",
        "print(\"Give me sentence with numbers inside\")\n",
        "print(\"\")\n",
        "inspect_custom_sentence(u\"1 2 3 4 5 6 7 8 9 10 11 ... You know that iam called the Count! Because I really love to count!\")"
      ],
      "execution_count": 0,
      "outputs": [
        {
          "output_type": "stream",
          "text": [
            "Give me sentence with this distribution of o's\n",
            "\n",
            "Reconstructed custom sentence (only using vocabulary): \n",
            "\n",
            " \n",
            " --Original sentence reconstructed just from vocabulary: \n",
            "cookbook ! i use a lookout of sooooo ! ! ! ! ! ! ! ! ! ! ! !\n",
            "--Predicted sentence reconstructed by autoencoder AND vocabulary: \n",
            "monopoly ! i use a lookout of sooooo ! h ! ! o s a ! o t o !\n",
            "--mse: 6.790060688650005e-05; ((different))\n",
            "\n",
            "Most similar sentence in trained encoder's representation: \n",
            "Somebody owes Ang Lee an apology . Actually , a lot of people do . And I ' ll start\n",
            "\n",
            "\n",
            "\n",
            "Give me sentence with numbers inside\n",
            "\n",
            "Reconstructed custom sentence (only using vocabulary): \n",
            "\n",
            " \n",
            " --Original sentence reconstructed just from vocabulary: \n",
            "1 2 3 4 5 6 7 8 9 10 11 ;) you know that aim called the count !\n",
            "--Predicted sentence reconstructed by autoencoder AND vocabulary: \n",
            "21 9 9 9 9 1 7 8 8 25 31 ! yo one thaw ai called the count w\n",
            "--mse: 0.00014884778907656263; ((different))\n",
            "\n",
            "Most similar sentence in trained encoder's representation: \n",
            "The movie deserves 2 / 10 . 1 . 5 stars for the girl ,( I ' m sorry I\n"
          ],
          "name": "stdout"
        }
      ]
    },
    {
      "cell_type": "code",
      "metadata": {
        "id": "jV1qrG_V-82b",
        "colab_type": "code",
        "outputId": "4b6d1839-303f-4dbe-fe0b-5f868b3cb0a7",
        "colab": {
          "base_uri": "https://localhost:8080/",
          "height": 238
        }
      },
      "source": [
        "print(\"Give me sentence to train my pronounciation!\")\n",
        "print(\"\")\n",
        "inspect_custom_sentence(u\"qwrt qwrt qwrt qwrt qwrt qwrt qwrt q w r t q w r t q w r t\")"
      ],
      "execution_count": 0,
      "outputs": [
        {
          "output_type": "stream",
          "text": [
            "Give me sentence to train my pronounciation!\n",
            "\n",
            "Reconstructed custom sentence (only using vocabulary): \n",
            "\n",
            " \n",
            " --Original sentence reconstructed just from vocabulary: \n",
            "waqt waqt waqt waqt waqt waqt waqt q w r t q w r t q w r t !\n",
            "--Predicted sentence reconstructed by autoencoder AND vocabulary: \n",
            "whit wore west west wire twin wait t w r t b w r t i w r t w\n",
            "--mse: 3.4385971133244184e-05; ((different))\n",
            "\n",
            "Most similar sentence in trained encoder's representation: \n",
            "Many people here say that this show is for kids only . Hm , when I was a kid (\n"
          ],
          "name": "stdout"
        }
      ]
    },
    {
      "cell_type": "markdown",
      "metadata": {
        "id": "bOMlOGRqFo8n",
        "colab_type": "text"
      },
      "source": [
        "# Thank you!"
      ]
    },
    {
      "cell_type": "markdown",
      "metadata": {
        "id": "xWJbvqjKEiZ2",
        "colab_type": "text"
      },
      "source": [
        "Links for literature and more examples (not only autoencoders, but also other visualizations used here):   \n",
        "\n",
        "\n",
        "https://blog.keras.io/building-autoencoders-in-keras.html  \n",
        "https://lvdmaaten.github.io/tsne/  \n",
        "https://github.com/lvdmaaten/bhtsne/  \n",
        "https://cs224d.stanford.edu/reports/OshriBarak.pdf  \n",
        "https://hackernoon.com/how-to-autoencode-your-pok%C3%A9mon-6b0f5c7b7d97   \n",
        "https://datascience.stackexchange.com/questions/29527/which-type-auto-encoder-gives-best-results-for-text   \n",
        "https://www.reddit.com/r/MachineLearning/comments/2em084/el5_what_are_autoencoders_used_for/  \n",
        "https://www.siarez.com/projects/variational-autoencoder  \n",
        "IMDB dataset for sentient:\n",
        "https://github.com/rossumai/mlprague18-nlp/blob/master/IMDB%20Sentiment.ipynb\n",
        "  \n",
        "  Bonus for everybody - colab notebook with character model (convolutional autoencoder): https://colab.research.google.com/drive/1DfLYljazmkxAwBCRt1AHbdtBU3xV0lPr ;) "
      ]
    }
  ]
}