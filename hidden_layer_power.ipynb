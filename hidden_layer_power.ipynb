{
  "nbformat": 4,
  "nbformat_minor": 0,
  "metadata": {
    "colab": {
      "name": "hidden layer power",
      "provenance": [],
      "collapsed_sections": [
        "KXoz_9_D1kJH"
      ],
      "include_colab_link": true
    },
    "kernelspec": {
      "name": "python3",
      "display_name": "Python 3"
    },
    "widgets": {
      "application/vnd.jupyter.widget-state+json": {
        "3f135522f89348afa9cfa1979c14af2d": {
          "model_module": "@jupyter-widgets/controls",
          "model_name": "IntSliderModel",
          "state": {
            "_view_name": "IntSliderView",
            "style": "IPY_MODEL_8211780228774c15808e42eb56cac17e",
            "_dom_classes": [],
            "description": "Hidden neurons:",
            "step": 1,
            "_model_name": "IntSliderModel",
            "orientation": "horizontal",
            "max": 12,
            "_view_module": "@jupyter-widgets/controls",
            "_model_module_version": "1.5.0",
            "value": 7,
            "_view_count": null,
            "disabled": false,
            "_view_module_version": "1.5.0",
            "min": 1,
            "continuous_update": false,
            "readout_format": "d",
            "description_tooltip": null,
            "readout": true,
            "_model_module": "@jupyter-widgets/controls",
            "layout": "IPY_MODEL_653f5d4b5fbc4b62b77a81c534d3a75c"
          }
        },
        "8211780228774c15808e42eb56cac17e": {
          "model_module": "@jupyter-widgets/controls",
          "model_name": "SliderStyleModel",
          "state": {
            "_view_name": "StyleView",
            "handle_color": null,
            "_model_name": "SliderStyleModel",
            "description_width": "",
            "_view_module": "@jupyter-widgets/base",
            "_model_module_version": "1.5.0",
            "_view_count": null,
            "_view_module_version": "1.2.0",
            "_model_module": "@jupyter-widgets/controls"
          }
        },
        "653f5d4b5fbc4b62b77a81c534d3a75c": {
          "model_module": "@jupyter-widgets/base",
          "model_name": "LayoutModel",
          "state": {
            "_view_name": "LayoutView",
            "grid_template_rows": null,
            "right": null,
            "justify_content": null,
            "_view_module": "@jupyter-widgets/base",
            "overflow": null,
            "_model_module_version": "1.2.0",
            "_view_count": null,
            "flex_flow": null,
            "width": null,
            "min_width": null,
            "border": null,
            "align_items": null,
            "bottom": null,
            "_model_module": "@jupyter-widgets/base",
            "top": null,
            "grid_column": null,
            "overflow_y": null,
            "overflow_x": null,
            "grid_auto_flow": null,
            "grid_area": null,
            "grid_template_columns": null,
            "flex": null,
            "_model_name": "LayoutModel",
            "justify_items": null,
            "grid_row": null,
            "max_height": null,
            "align_content": null,
            "visibility": null,
            "align_self": null,
            "height": null,
            "min_height": null,
            "padding": null,
            "grid_auto_rows": null,
            "grid_gap": null,
            "max_width": null,
            "order": null,
            "_view_module_version": "1.2.0",
            "grid_template_areas": null,
            "object_position": null,
            "object_fit": null,
            "grid_auto_columns": null,
            "margin": null,
            "display": null,
            "left": null
          }
        },
        "33408d11246c4d029c247ccfa9d392fd": {
          "model_module": "@jupyter-widgets/output",
          "model_name": "OutputModel",
          "state": {
            "_view_name": "OutputView",
            "msg_id": "",
            "_dom_classes": [],
            "_model_name": "OutputModel",
            "outputs": [
              {
                "output_type": "stream",
                "metadata": {
                  "tags": []
                },
                "text": "Model: \"sequential_4\"\n_________________________________________________________________\nLayer (type)                 Output Shape              Param #   \n=================================================================\ndense_8 (Dense)              (None, 7)                 21        \n_________________________________________________________________\ndense_9 (Dense)              (None, 1)                 8         \n=================================================================\nTotal params: 29\nTrainable params: 29\nNon-trainable params: 0\n_________________________________________________________________\n",
                "stream": "stdout"
              },
              {
                "output_type": "stream",
                "metadata": {
                  "tags": []
                },
                "text": "Confusion matrix:\n\n[[98 2]\n [36 64]]\n",
                "stream": "stdout"
              },
              {
                "output_type": "display_data",
                "metadata": {
                  "tags": []
                },
                "image/png": "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\n",
                "text/plain": "<Figure size 432x288 with 1 Axes>"
              }
            ],
            "_view_module": "@jupyter-widgets/output",
            "_model_module_version": "1.0.0",
            "_view_count": null,
            "_view_module_version": "1.0.0",
            "layout": "IPY_MODEL_6d348952c16549d1ae43c160966e8933",
            "_model_module": "@jupyter-widgets/output"
          }
        },
        "6d348952c16549d1ae43c160966e8933": {
          "model_module": "@jupyter-widgets/base",
          "model_name": "LayoutModel",
          "state": {
            "_view_name": "LayoutView",
            "grid_template_rows": null,
            "right": null,
            "justify_content": null,
            "_view_module": "@jupyter-widgets/base",
            "overflow": null,
            "_model_module_version": "1.2.0",
            "_view_count": null,
            "flex_flow": null,
            "width": null,
            "min_width": null,
            "border": null,
            "align_items": null,
            "bottom": null,
            "_model_module": "@jupyter-widgets/base",
            "top": null,
            "grid_column": null,
            "overflow_y": null,
            "overflow_x": null,
            "grid_auto_flow": null,
            "grid_area": null,
            "grid_template_columns": null,
            "flex": null,
            "_model_name": "LayoutModel",
            "justify_items": null,
            "grid_row": null,
            "max_height": null,
            "align_content": null,
            "visibility": null,
            "align_self": null,
            "height": null,
            "min_height": null,
            "padding": null,
            "grid_auto_rows": null,
            "grid_gap": null,
            "max_width": null,
            "order": null,
            "_view_module_version": "1.2.0",
            "grid_template_areas": null,
            "object_position": null,
            "object_fit": null,
            "grid_auto_columns": null,
            "margin": null,
            "display": null,
            "left": null
          }
        }
      }
    }
  },
  "cells": [
    {
      "cell_type": "markdown",
      "metadata": {
        "id": "view-in-github",
        "colab_type": "text"
      },
      "source": [
        "<a href=\"https://colab.research.google.com/github/martinpovolny/colaboratory/blob/master/hidden_layer_power.ipynb\" target=\"_parent\"><img src=\"https://colab.research.google.com/assets/colab-badge.svg\" alt=\"Open In Colab\"/></a>"
      ]
    },
    {
      "cell_type": "code",
      "metadata": {
        "id": "P6PZoEq2ofxv",
        "colab_type": "code",
        "colab": {}
      },
      "source": [
        "#@title imports {display-mode: \"form\"}\n",
        "\n",
        "import numpy as np \n",
        "import pylab as plt \n",
        "import pandas as pd\n",
        "import ipywidgets as widgets\n",
        "from IPython.display import display\n",
        "\n",
        "import tensorflow as tf\n",
        "from tensorflow.keras.models import Sequential\n",
        "from tensorflow.keras.layers import Dense\n"
      ],
      "execution_count": 0,
      "outputs": []
    },
    {
      "cell_type": "markdown",
      "metadata": {
        "id": "A7S8uW1-t7gw",
        "colab_type": "text"
      },
      "source": [
        "# Sample data\n",
        "\n",
        "2 circles with common center"
      ]
    },
    {
      "cell_type": "code",
      "metadata": {
        "id": "aNshGqu9ow5A",
        "colab_type": "code",
        "outputId": "c3ec24aa-1fd9-4fb6-b7f4-159131f8c9c8",
        "colab": {
          "base_uri": "https://localhost:8080/",
          "height": 282
        }
      },
      "source": [
        "#@title generate sample data {display-mode: \"form\"}\n",
        "\n",
        "num_samples = 100\n",
        "theta = np.linspace(0, 2*np.pi, num_samples)\n",
        "r = np.random.rand((num_samples))+5\n",
        "x, y = r * np.cos(theta), r * np.sin(theta)\n",
        "\n",
        "theta2 = np.linspace(0, 2*np.pi, num_samples)\n",
        "r2 = np.random.rand((num_samples))+2\n",
        "x2, y2 = r2 * np.cos(theta), r2 * np.sin(theta2)\n",
        "\n",
        "\n",
        "plt.scatter(x, y, color='red')\n",
        "plt.scatter(x2, y2, color='yellow')\n",
        "\n",
        "\n",
        "\n"
      ],
      "execution_count": 4,
      "outputs": [
        {
          "output_type": "execute_result",
          "data": {
            "text/plain": [
              "<matplotlib.collections.PathCollection at 0x7f0c3fa6c048>"
            ]
          },
          "metadata": {
            "tags": []
          },
          "execution_count": 4
        },
        {
          "output_type": "display_data",
          "data": {
            "image/png": "[encoded data removed]",
            "text/plain": [
              "<Figure size 432x288 with 1 Axes>"
            ]
          },
          "metadata": {
            "tags": [],
            "needs_background": "light"
          }
        }
      ]
    },
    {
      "cell_type": "code",
      "metadata": {
        "id": "cD3MHEjAp769",
        "colab_type": "code",
        "outputId": "cf73533c-0dc0-4ece-9bc3-fb175d6c1e9c",
        "colab": {
          "base_uri": "https://localhost:8080/",
          "height": 204
        }
      },
      "source": [
        "#@title create a dataframe of sample data {display-mode: \"form\"}\n",
        "\n",
        "df = pd.DataFrame({\n",
        "    'x1': np.concatenate((x, x2)), \n",
        "    'x2': np.concatenate((y, y2)),\n",
        "    'klass': np.concatenate((\n",
        "    np.ones((num_samples)), \n",
        "    np.zeros((num_samples))\n",
        "    ))\n",
        "    }) \n",
        "df.head()\n"
      ],
      "execution_count": 5,
      "outputs": [
        {
          "output_type": "execute_result",
          "data": {
            "text/html": [
              "<div>\n",
              "<style scoped>\n",
              "    .dataframe tbody tr th:only-of-type {\n",
              "        vertical-align: middle;\n",
              "    }\n",
              "\n",
              "    .dataframe tbody tr th {\n",
              "        vertical-align: top;\n",
              "    }\n",
              "\n",
              "    .dataframe thead th {\n",
              "        text-align: right;\n",
              "    }\n",
              "</style>\n",
              "<table border=\"1\" class=\"dataframe\">\n",
              "  <thead>\n",
              "    <tr style=\"text-align: right;\">\n",
              "      <th></th>\n",
              "      <th>x1</th>\n",
              "      <th>x2</th>\n",
              "      <th>klass</th>\n",
              "    </tr>\n",
              "  </thead>\n",
              "  <tbody>\n",
              "    <tr>\n",
              "      <th>0</th>\n",
              "      <td>5.389411</td>\n",
              "      <td>0.000000</td>\n",
              "      <td>1.0</td>\n",
              "    </tr>\n",
              "    <tr>\n",
              "      <th>1</th>\n",
              "      <td>5.694011</td>\n",
              "      <td>0.361865</td>\n",
              "      <td>1.0</td>\n",
              "    </tr>\n",
              "    <tr>\n",
              "      <th>2</th>\n",
              "      <td>5.799283</td>\n",
              "      <td>0.740100</td>\n",
              "      <td>1.0</td>\n",
              "    </tr>\n",
              "    <tr>\n",
              "      <th>3</th>\n",
              "      <td>5.454185</td>\n",
              "      <td>1.051208</td>\n",
              "      <td>1.0</td>\n",
              "    </tr>\n",
              "    <tr>\n",
              "      <th>4</th>\n",
              "      <td>5.716044</td>\n",
              "      <td>1.483108</td>\n",
              "      <td>1.0</td>\n",
              "    </tr>\n",
              "  </tbody>\n",
              "</table>\n",
              "</div>"
            ],
            "text/plain": [
              "         x1        x2  klass\n",
              "0  5.389411  0.000000    1.0\n",
              "1  5.694011  0.361865    1.0\n",
              "2  5.799283  0.740100    1.0\n",
              "3  5.454185  1.051208    1.0\n",
              "4  5.716044  1.483108    1.0"
            ]
          },
          "metadata": {
            "tags": []
          },
          "execution_count": 5
        }
      ]
    },
    {
      "cell_type": "markdown",
      "metadata": {
        "id": "KXoz_9_D1kJH",
        "colab_type": "text"
      },
      "source": [
        "# 2 layer NN with variable number of neurons in the hiddel layer\n",
        "\n",
        "This example shows the effect of number of neurons in the hidden layer on the ability of the network to learn how to separate the data.\n",
        "\n",
        "The example dataset is not linearly separable. The network need to learn a more complex boundary.\n",
        "\n",
        "How many neurons are needed for that?\n",
        "\n",
        "Below you can see: \n",
        " * a summary of the model architecture,\n",
        " * then a confusion matrix for predictions made by the model once it it learned,\n",
        " * finally a graphical representation of the prediction to compare with the chart in the Sample data above.\n",
        "\n",
        " Move the slider to adjust the number of neurons in the hidden layer.\n",
        "\n"
      ]
    },
    {
      "cell_type": "code",
      "metadata": {
        "id": "99Z2JyS9rVpN",
        "colab_type": "code",
        "colab": {}
      },
      "source": [
        "def build_nn(number_hiden):\n",
        "  model = Sequential()    \n",
        "  model.add(Dense(number_hiden, activation='sigmoid', input_shape=(2,)))\n",
        "  model.add(Dense(1, activation='sigmoid'))\n",
        "\n",
        "  model.compile(loss='binary_crossentropy', optimizer='adam')\n",
        "  model.summary()\n",
        "\n",
        "  return model"
      ],
      "execution_count": 0,
      "outputs": []
    },
    {
      "cell_type": "code",
      "metadata": {
        "id": "hM4jjdyatEoU",
        "colab_type": "code",
        "colab": {}
      },
      "source": [
        "def run_experiment(hidden_neurons):\n",
        "    m = build_nn(hidden_neurons)\n",
        "\n",
        "    m.fit( df[['x1', 'x2']], df[['klass']], epochs=300, verbose=0)\n",
        "    predicted = m.predict_classes(df[['x1', 'x2']])\n",
        "    #print(predicted)\n",
        "\n",
        "    confusion = tf.math.confusion_matrix(df['klass'], predicted, num_classes=2)\n",
        "    print(\"Confusion matrix:\\n\")\n",
        "    tf.print(confusion)\n",
        "\n",
        "    class1 = df[predicted == 1]\n",
        "    class0 = df[predicted == 0]\n",
        "\n",
        "    f = plt.figure()\n",
        "    f.clear()\n",
        "    plt.scatter(class1[['x1']], class1[['x2']], color='red')\n",
        "    plt.scatter(class0[['x1']], class0[['x2']], color='yellow')\n",
        "    plt.close(f)\n",
        "    display(f)\n",
        "\n"
      ],
      "execution_count": 0,
      "outputs": []
    },
    {
      "cell_type": "code",
      "metadata": {
        "id": "FQwBkHMdsDAn",
        "colab_type": "code",
        "colab": {}
      },
      "source": [
        "#@title create a slider widget that runs the experiment {display-mode: \"form\"}\n",
        "\n",
        "output_hidd = widgets.Output()\n",
        "\n",
        "hidd_slider = widgets.IntSlider(\n",
        "    value=7,\n",
        "    min=1,\n",
        "    max=12,\n",
        "    step=1,\n",
        "    description='Hidden neurons:',\n",
        "    disabled=False,\n",
        "    continuous_update=False,\n",
        "    orientation='horizontal',\n",
        "    readout=True,\n",
        "    readout_format='d'\n",
        ")\n",
        "\n",
        "def hidd_change_handler(change):\n",
        "  output_hidd.clear_output()\n",
        "\n",
        "  with output_hidd:\n",
        "    run_experiment(change.new)\n",
        "\n",
        "hidd_slider.observe(hidd_change_handler, names='value')\n",
        "\n",
        "#run_experiment(change.new)\n"
      ],
      "execution_count": 0,
      "outputs": []
    },
    {
      "cell_type": "markdown",
      "metadata": {
        "id": "ZHmG5mLj2Y24",
        "colab_type": "text"
      },
      "source": [
        "# Run the experiment"
      ]
    },
    {
      "cell_type": "code",
      "metadata": {
        "id": "tCt9FZ3o2B0R",
        "colab_type": "code",
        "colab": {
          "base_uri": "https://localhost:8080/",
          "height": 569,
          "referenced_widgets": [
            "3f135522f89348afa9cfa1979c14af2d",
            "8211780228774c15808e42eb56cac17e",
            "653f5d4b5fbc4b62b77a81c534d3a75c",
            "33408d11246c4d029c247ccfa9d392fd",
            "6d348952c16549d1ae43c160966e8933"
          ]
        },
        "outputId": "ea0ccfbc-4f14-4678-ad5a-917b52524174"
      },
      "source": [
        "display(hidd_slider)\n",
        "display(output_hidd)"
      ],
      "execution_count": 11,
      "outputs": [
        {
          "output_type": "display_data",
          "data": {
            "application/vnd.jupyter.widget-view+json": {
              "model_id": "3f135522f89348afa9cfa1979c14af2d",
              "version_minor": 0,
              "version_major": 2
            },
            "text/plain": [
              "IntSlider(value=7, continuous_update=False, description='Hidden neurons:', max=12, min=1)"
            ]
          },
          "metadata": {
            "tags": []
          }
        },
        {
          "output_type": "display_data",
          "data": {
            "application/vnd.jupyter.widget-view+json": {
              "model_id": "33408d11246c4d029c247ccfa9d392fd",
              "version_minor": 0,
              "version_major": 2
            },
            "text/plain": [
              "Output()"
            ]
          },
          "metadata": {
            "tags": []
          }
        }
      ]
    }
  ]
}